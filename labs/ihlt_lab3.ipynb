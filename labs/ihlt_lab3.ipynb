{
  "nbformat": 4,
  "nbformat_minor": 0,
  "metadata": {
    "colab": {
      "provenance": []
    },
    "kernelspec": {
      "name": "python3",
      "display_name": "Python 3"
    },
    "language_info": {
      "name": "python"
    }
  },
  "cells": [
    {
      "cell_type": "markdown",
      "source": [
        "# IHLT Lab 3\n",
        "\n",
        "Lab developed by:\n",
        "- Oriol Miró López-Feliu\n",
        "- Niklas Long Schiefelbein\n",
        "\n",
        "\n",
        "**Exercice description:**\n",
        "1. Read all pairs of sentences of the SMTeuroparl files of test set within the evaluation framework of the project.\n",
        "2. Compute their similarities by considering lemmas and Jaccard distance.\n",
        "3. Compare the results with those in session 2 (document structure) in which words were considered.\n",
        "4. Compare the results with gold standard by giving the pearson correlation between them.\n",
        "5. Questions (justify the answers):\n",
        "  - Which is better: words or lemmas?\n",
        "  - Do you think that could perform better for any pair of texts?"
      ],
      "metadata": {
        "id": "SWkG87xpdZME"
      }
    },
    {
      "cell_type": "markdown",
      "source": [
        "## Imports"
      ],
      "metadata": {
        "id": "8Nq_Is0UeBDr"
      }
    },
    {
      "cell_type": "code",
      "execution_count": 10,
      "metadata": {
        "colab": {
          "base_uri": "https://localhost:8080/"
        },
        "id": "SKeoydUTdRbk",
        "outputId": "5615b435-61b6-40d0-a955-b3f62d6ae7af"
      },
      "outputs": [
        {
          "output_type": "stream",
          "name": "stderr",
          "text": [
            "[nltk_data] Downloading package punkt to /root/nltk_data...\n",
            "[nltk_data]   Package punkt is already up-to-date!\n",
            "[nltk_data] Downloading package stopwords to /root/nltk_data...\n",
            "[nltk_data]   Package stopwords is already up-to-date!\n",
            "[nltk_data] Downloading package averaged_perceptron_tagger to\n",
            "[nltk_data]     /root/nltk_data...\n",
            "[nltk_data]   Package averaged_perceptron_tagger is already up-to-\n",
            "[nltk_data]       date!\n",
            "[nltk_data] Downloading package wordnet to /root/nltk_data...\n",
            "[nltk_data]   Package wordnet is already up-to-date!\n",
            "[nltk_data] Downloading package omw-1.4 to /root/nltk_data...\n",
            "[nltk_data]   Package omw-1.4 is already up-to-date!\n"
          ]
        }
      ],
      "source": [
        "# base\n",
        "import pandas as pd\n",
        "import nltk\n",
        "\n",
        "# distance\n",
        "from nltk.metrics import jaccard_distance\n",
        "from scipy.stats import pearsonr\n",
        "\n",
        "# tokenizers\n",
        "nltk.download('punkt')\n",
        "from nltk.tokenize import word_tokenize\n",
        "\n",
        "# cleaning\n",
        "nltk.download('stopwords')\n",
        "from string import punctuation\n",
        "\n",
        "# LEMMAS!\n",
        "nltk.download('averaged_perceptron_tagger')\n",
        "nltk.download('wordnet')\n",
        "nltk.download('omw-1.4')\n",
        "\n",
        "# plotting\n",
        "import matplotlib.pyplot as plt\n",
        "import seaborn as sns"
      ]
    },
    {
      "cell_type": "markdown",
      "source": [
        "## Useful Functions"
      ],
      "metadata": {
        "id": "99KyjwHUemLv"
      }
    },
    {
      "cell_type": "code",
      "source": [
        "def compute_pearson_correlation(dt, column_name):\n",
        "    return pearsonr(dt['gs'], dt[column_name])[0]\n",
        "\n",
        "def plot_pearson_comparison(correlations, labels):\n",
        "\n",
        "    # color palette (so we dont have to provide it, as variable nº of inputs)\n",
        "    colors = sns.color_palette(n_colors=len(labels))\n",
        "\n",
        "    # plot bar graph\n",
        "    plt.figure(figsize=(8, 6))\n",
        "    bars = plt.bar(labels, correlations, color=colors)\n",
        "\n",
        "    plt.ylabel(\"Pearson's Correlation\")\n",
        "    plt.title(\"Comparison of Pearson's Correlation for Different Methods\")\n",
        "    plt.ylim(0, 1)  # Adjust the range based on your data\n",
        "\n",
        "    # number above each bar (clarity)\n",
        "    for bar in bars:\n",
        "        yval = bar.get_height()\n",
        "        plt.text(bar.get_x() + bar.get_width() / 2, yval, round(yval, 3), ha='center', va='bottom')\n",
        "\n",
        "    # show plot\n",
        "    plt.show()\n",
        "\n",
        "def print_sentences_diff(df, title):\n",
        "    print(title)\n",
        "    for index, row in df.iterrows():\n",
        "        print(f\"Sentence 1: {row[0]}\")\n",
        "        print(f\"lemmatized sentence 1: {row['s0_lemmatized_nltk']}\")\n",
        "        print(f\"Sentence 2: {row[1]}\")\n",
        "        print(f\"lemmatized sentence 2: {row['s1_lemmatized_nltk']}\")\n",
        "        print(f\"Difference (diff): {row['diff_performance']}\\n\")\n",
        "\n",
        "\n",
        "wnl = nltk.stem.WordNetLemmatizer()\n",
        "def lemmatize(p):\n",
        "  d = {'NN': 'n', 'NNS': 'n',\n",
        "       'JJ': 'a', 'JJR': 'a', 'JJS': 'a',\n",
        "       'VB': 'v', 'VBD': 'v', 'VBG': 'v', 'VBN': 'v', 'VBP': 'v', 'VBZ': 'v',\n",
        "       'RB': 'r', 'RBR': 'r', 'RBS': 'r'}\n",
        "  if p[1] in d:\n",
        "    return wnl.lemmatize(p[0], pos=d[p[1]])\n",
        "  return p[0]\n",
        "\n",
        "\n",
        "def lemmatize_sentence(tokens):\n",
        "    # Get POS tags\n",
        "    pos_tags = nltk.pos_tag(tokens)\n",
        "\n",
        "    # Lemmatize using POS tag\n",
        "    lemmatized_tokens = [lemmatize(pair) for pair in pos_tags]\n",
        "\n",
        "    return lemmatized_tokens"
      ],
      "metadata": {
        "id": "y9PxYW3Ten9H"
      },
      "execution_count": 11,
      "outputs": []
    },
    {
      "cell_type": "markdown",
      "source": [
        "## Data Loading"
      ],
      "metadata": {
        "id": "nd3SLbvYd0cm"
      }
    },
    {
      "cell_type": "code",
      "source": [
        "# mount google drive\n",
        "from google.colab import drive\n",
        "drive.mount('/content/drive')"
      ],
      "metadata": {
        "colab": {
          "base_uri": "https://localhost:8080/"
        },
        "id": "x2LJ8EhSd0lW",
        "outputId": "e6766f8d-c569-482b-89d8-22c747e7e852"
      },
      "execution_count": 12,
      "outputs": [
        {
          "output_type": "stream",
          "name": "stdout",
          "text": [
            "Drive already mounted at /content/drive; to attempt to forcibly remount, call drive.mount(\"/content/drive\", force_remount=True).\n"
          ]
        }
      ]
    },
    {
      "cell_type": "code",
      "source": [
        "# load base data\n",
        "dt = pd.read_csv('/content/drive/MyDrive/MAI_IHLT_LAB/data/test-gold/STS.input.SMTeuroparl.txt',sep='\\t',header=None)\n",
        "\n",
        "# include the gs labels\n",
        "dt['gs'] = pd.read_csv('/content/drive/MyDrive/MAI_IHLT_LAB/data/test-gold/STS.gs.SMTeuroparl.txt',sep='\\t',header=None)"
      ],
      "metadata": {
        "id": "7fkpIicbd10d"
      },
      "execution_count": 13,
      "outputs": []
    },
    {
      "cell_type": "code",
      "source": [
        "# preprocessing\n",
        "dt.drop_duplicates(inplace=True) # as we found out last session that there are 142 duplicates!"
      ],
      "metadata": {
        "id": "WB4EqK35eRVz"
      },
      "execution_count": 14,
      "outputs": []
    },
    {
      "cell_type": "markdown",
      "source": [
        "## Experiments"
      ],
      "metadata": {
        "id": "yMnIwFk-eM9l"
      }
    },
    {
      "cell_type": "markdown",
      "source": [
        "### Last labs results"
      ],
      "metadata": {
        "id": "hCcao97ThFWX"
      }
    },
    {
      "cell_type": "code",
      "source": [
        "# Here we compute JD's as last lab.\n",
        "# PD: there is a note-worthy change: last session we found tokenising naively worked better, yet because lemmatization uses nltk's tokenizer,\n",
        "#   to make results comparable we must also tokenize with nltk. Therefore we assume all results from lab2 hold when changing the tokenizer.\n",
        "\n",
        "# what we do is:\n",
        "# - tokenise with nltk\n",
        "# - lowercase\n",
        "# - remove stop words\n",
        "# - remove punctuation\n",
        "\n",
        "# ------------------------------------------------------- #\n",
        "\n",
        "stop_words = set(nltk.corpus.stopwords.words('english'))\n",
        "\n",
        "dt['jd_no_lemmatized'] = dt.apply(\n",
        "    lambda row: (1 - jaccard_distance(\n",
        "        set([word.lower() for word in word_tokenize(row[0]) if word.lower() not in stop_words and word not in punctuation]),\n",
        "        set([word.lower() for word in word_tokenize(row[1]) if word.lower() not in stop_words and word not in punctuation])\n",
        "    )) * 5, axis=1\n",
        ")\n",
        "\n",
        "# just to make sure, we recalculate pearson correlation (naive tokenizer yielded 0.391, nltk should give 0.379)\n",
        "pearson_original = compute_pearson_correlation(dt, 'jd_no_lemmatized')\n",
        "print(f\"pearson correlation of last session: {pearson_original:.3f}\")"
      ],
      "metadata": {
        "id": "XqaQRXVRexbx",
        "colab": {
          "base_uri": "https://localhost:8080/"
        },
        "outputId": "d61a00dd-3c00-414e-942b-d87701cfc937"
      },
      "execution_count": 15,
      "outputs": [
        {
          "output_type": "stream",
          "name": "stdout",
          "text": [
            "pearson correlation of last session: 0.379\n"
          ]
        }
      ]
    },
    {
      "cell_type": "markdown",
      "source": [
        "### NLTK Lemmatization\n",
        "\n",
        "Considering our previous preprocessing removed potentially useful information for POS tagging (stopwords, ...), we must lemmatize first and then perform preprocessing"
      ],
      "metadata": {
        "id": "vpVrpZRHhmsN"
      }
    },
    {
      "cell_type": "code",
      "source": [
        "# tokenize\n",
        "dt['s0_tokens'] = dt.apply(lambda row: word_tokenize(row[0]), axis=1)\n",
        "dt['s1_tokens'] = dt.apply(lambda row: word_tokenize(row[1]), axis=1)\n",
        "\n",
        "# lemmatize\n",
        "dt['s0_lemmatized_nltk'] = dt['s0_tokens'].apply(lemmatize_sentence)\n",
        "dt['s1_lemmatized_nltk'] = dt['s1_tokens'].apply(lemmatize_sentence)\n",
        "\n",
        "# calculate jaccard + preprocessing (lowercase, remove stopwords, remove punctuation)\n",
        "dt['jd_lemmatized'] = dt.apply(\n",
        "    lambda row: (1 - jaccard_distance(\n",
        "        set([word.lower() for word in row['s0_lemmatized_nltk'] if word.lower() not in stop_words and word not in punctuation]),\n",
        "        set([word.lower() for word in row['s1_lemmatized_nltk'] if word.lower() not in stop_words and word not in punctuation])\n",
        "    )) * 5, axis=1\n",
        ")\n",
        "\n",
        "pearson_lemmatisation = compute_pearson_correlation(dt, 'jd_lemmatized')"
      ],
      "metadata": {
        "id": "hJJ8QazdhmTD"
      },
      "execution_count": 16,
      "outputs": []
    },
    {
      "cell_type": "markdown",
      "source": [
        "## Results"
      ],
      "metadata": {
        "id": "Wrj8a-Vvx5fn"
      }
    },
    {
      "cell_type": "code",
      "source": [
        "plot_pearson_comparison([pearson_original, pearson_lemmatisation], ['No lemmatization', 'Lemmatization'])"
      ],
      "metadata": {
        "colab": {
          "base_uri": "https://localhost:8080/",
          "height": 545
        },
        "id": "plYTOBqNxg9Z",
        "outputId": "38d7a007-546b-48dc-bd84-9d56e271be27"
      },
      "execution_count": 17,
      "outputs": [
        {
          "output_type": "display_data",
          "data": {
            "text/plain": [
              "<Figure size 800x600 with 1 Axes>"
            ],
            "image/png": "[encoded data removed]"
          },
          "metadata": {}
        }
      ]
    },
    {
      "cell_type": "markdown",
      "source": [
        "- **Which is better: words or lemmas?:**\n",
        "  The pearson correlations suggest that lemmas work better than words, probably because they account for morphological variations. Even then, lemmas are limited as they can not capture, for example, synonyms.\n",
        "\n",
        "- **Do you think that could perform better for any pair of texts?:**\n",
        "  No. Lemmatization could result in loss of important information, such as time (past vs present), number (plural vs singular), etc.. In cases where this plays an important role in a sentence's meaning, the semantics, it might be better to not lemmatize.\n",
        "\n",
        "  Example: consider two sentences, s0 and s1\n",
        "    - s0 = \"I hated cats, but love them now\"\n",
        "    - s1 = \"I hate cats and always will\"\n",
        "  s0 and s1 have very different meanings, yet if we lemmatized them, \"hated\" becomes \"hate\", causing an important loss of information to the sentence meaning - making both sentences appear similar despite that not being true.\n",
        "\n",
        "\n",
        "Furthermore, we compute cases where words performed better than lemmas:"
      ],
      "metadata": {
        "id": "mC_cbHs9x_B1"
      }
    },
    {
      "cell_type": "code",
      "source": [
        "# cases where no lemmatisation worked better\n",
        "# to find more illustrative examples, we find cases where the difference in performance was greater\n",
        "dt['diff_no_lemmatized'] = (dt['jd_no_lemmatized'] - dt['gs']).abs()\n",
        "dt['diff_lemmatized'] = (dt['jd_lemmatized'] - dt['gs']).abs()\n",
        "\n",
        "filtered_cases = dt[dt['diff_no_lemmatized'] < dt['diff_lemmatized']]\n",
        "print(f\"no lemmatisation performed better in {len(filtered_cases)} cases ({len(filtered_cases)/len(dt):.2f}% of total)\\n\\n\")\n",
        "\n",
        "# => the smaller each value is, the better (less difference w.r.t. 'gs')\n",
        "#   and we want the cases where no lemmatisation performed (much) better than lemmatisation\n",
        "#   => diff_lemmatized - diff_no_lemmatized should be large!\n",
        "filtered_cases['diff_performance'] = (filtered_cases['diff_lemmatized'] - filtered_cases['diff_no_lemmatized'])\n",
        "sorted_cases = filtered_cases.sort_values(by='diff_performance', ascending=False)\n",
        "\n",
        "print_sentences_diff(sorted_cases[:5], \"Sentences where the difference in performance was greater\")"
      ],
      "metadata": {
        "colab": {
          "base_uri": "https://localhost:8080/"
        },
        "id": "VCmvuky80Wnz",
        "outputId": "2692bc34-0bad-423d-f6a6-3718894383c3"
      },
      "execution_count": 18,
      "outputs": [
        {
          "output_type": "stream",
          "name": "stdout",
          "text": [
            "no lemmatisation performed better in 18 cases (0.06% of total)\n",
            "\n",
            "\n",
            "Sentences where the difference in performance was greater\n",
            "Sentence 1: The fishermen are inactive, tired and disappointed.\n",
            "lemmatized sentence 1: ['The', 'fisherman', 'be', 'inactive', ',', 'tired', 'and', 'disappointed', '.']\n",
            "Sentence 2: The fishermen inactive, are tired and disappointed.\n",
            "lemmatized sentence 2: ['The', 'fisherman', 'inactive', ',', 'be', 'tire', 'and', 'disappoint', '.']\n",
            "Difference (diff): 3.333333333333333\n",
            "\n",
            "Sentence 1: Amendment No 7 proposes certain changes in the references to paragraphs.\n",
            "lemmatized sentence 1: ['Amendment', 'No', '7', 'propose', 'certain', 'change', 'in', 'the', 'reference', 'to', 'paragraph', '.']\n",
            "Sentence 2: Amendment No 7 proposes changes to certain paragraphs references.\n",
            "lemmatized sentence 2: ['Amendment', 'No', '7', 'proposes', 'change', 'to', 'certain', 'paragraphs', 'reference', '.']\n",
            "Difference (diff): 2.2222222222222223\n",
            "\n",
            "Sentence 1: The fishermen are inactive, tired and disappointed.\n",
            "lemmatized sentence 1: ['The', 'fisherman', 'be', 'inactive', ',', 'tired', 'and', 'disappointed', '.']\n",
            "Sentence 2: Fishermen are inactive, tired and disappointed.\n",
            "lemmatized sentence 2: ['Fishermen', 'be', 'inactive', ',', 'tired', 'and', 'disappointed', '.']\n",
            "Difference (diff): 1.3339999999999996\n",
            "\n",
            "Sentence 1: The fishermen are inactive, tired and disappointed.\n",
            "lemmatized sentence 1: ['The', 'fisherman', 'be', 'inactive', ',', 'tired', 'and', 'disappointed', '.']\n",
            "Sentence 2: Fishermen are inactive, tired and disappointment.\n",
            "lemmatized sentence 2: ['Fishermen', 'be', 'inactive', ',', 'tired', 'and', 'disappointment', '.']\n",
            "Difference (diff): 1.333333333333333\n",
            "\n",
            "Sentence 1: Unfortunately, others separate on the basis of accumulated hatred.\n",
            "lemmatized sentence 1: ['Unfortunately', ',', 'others', 'separate', 'on', 'the', 'basis', 'of', 'accumulate', 'hatred', '.']\n",
            "Sentence 2: Others separate unfortunately because of an accumulated resentment.\n",
            "lemmatized sentence 2: ['Others', 'separate', 'unfortunately', 'because', 'of', 'an', 'accumulated', 'resentment', '.']\n",
            "Difference (diff): 0.9821428571428568\n",
            "\n"
          ]
        },
        {
          "output_type": "stream",
          "name": "stderr",
          "text": [
            "<ipython-input-18-4b28e8d8d60c>:12: SettingWithCopyWarning: \n",
            "A value is trying to be set on a copy of a slice from a DataFrame.\n",
            "Try using .loc[row_indexer,col_indexer] = value instead\n",
            "\n",
            "See the caveats in the documentation: https://pandas.pydata.org/pandas-docs/stable/user_guide/indexing.html#returning-a-view-versus-a-copy\n",
            "  filtered_cases['diff_performance'] = (filtered_cases['diff_lemmatized'] - filtered_cases['diff_no_lemmatized'])\n"
          ]
        }
      ]
    },
    {
      "cell_type": "markdown",
      "source": [
        "Interestingly the words are sometimes lemmatized in a different manner, depending on the context (see the first example, the same word \"tired\" gets lemmatized to both \"tire\" and \"tired\"); this is likely due to POS or lemmatizer errors, and would require further investigation to ameliorate."
      ],
      "metadata": {
        "id": "n0zPLfzP5Ye8"
      }
    }
  ]
}