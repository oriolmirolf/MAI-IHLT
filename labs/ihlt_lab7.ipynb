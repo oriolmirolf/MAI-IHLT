{
  "cells": [
    {
      "cell_type": "markdown",
      "metadata": {
        "id": "ke1NvTvnkuS7"
      },
      "source": [
        "# IHLT Lab 7\n",
        "\n",
        "Lab developed by:\n",
        "- Oriol Miró López-Feliu\n",
        "- Niklas Long Schiefelbein\n",
        "\n",
        "\n",
        "**Exercice description:**\n",
        "1. Read all pairs of sentences of the SMT europarl files of test set within the evaluation framework of the project.\n",
        "2. Compute their similarities by considering the following approach: words plus NEs and Jaccard coefficient\n",
        "  - ex: word_and_NEs=`['John Smith', 'is', 'working']`\n",
        "3. Show the results.\n",
        "4. Do you think it could be relevant to use NEs to compute the similarity between two sentences? Justify the answer."
      ]
    },
    {
      "cell_type": "markdown",
      "metadata": {
        "id": "elWVdHIXlmkg"
      },
      "source": [
        "## Imports"
      ]
    },
    {
      "cell_type": "code",
      "execution_count": null,
      "metadata": {
        "colab": {
          "base_uri": "https://localhost:8080/"
        },
        "id": "2M_pPFc8loWP",
        "outputId": "6a2ed839-9f2b-4f63-ecfb-c9d35297378a"
      },
      "outputs": [
        {
          "output_type": "stream",
          "name": "stderr",
          "text": [
            "[nltk_data] Downloading package stopwords to /root/nltk_data...\n",
            "[nltk_data]   Package stopwords is already up-to-date!\n",
            "[nltk_data] Downloading package words to /root/nltk_data...\n",
            "[nltk_data]   Package words is already up-to-date!\n",
            "[nltk_data] Downloading package wordnet to /root/nltk_data...\n",
            "[nltk_data]   Package wordnet is already up-to-date!\n",
            "[nltk_data] Downloading package punkt_tab to /root/nltk_data...\n",
            "[nltk_data]   Package punkt_tab is already up-to-date!\n",
            "[nltk_data] Downloading package averaged_perceptron_tagger_eng to\n",
            "[nltk_data]     /root/nltk_data...\n",
            "[nltk_data]   Package averaged_perceptron_tagger_eng is already up-to-\n",
            "[nltk_data]       date!\n",
            "[nltk_data] Downloading package maxent_ne_chunker_tab to\n",
            "[nltk_data]     /root/nltk_data...\n",
            "[nltk_data]   Package maxent_ne_chunker_tab is already up-to-date!\n",
            "[nltk_data] Downloading package words to /root/nltk_data...\n",
            "[nltk_data]   Package words is already up-to-date!\n"
          ]
        },
        {
          "output_type": "stream",
          "name": "stdout",
          "text": [
            "Drive already mounted at /content/drive; to attempt to forcibly remount, call drive.mount(\"/content/drive\", force_remount=True).\n"
          ]
        }
      ],
      "source": [
        "# Data manipulation and analysis\n",
        "import pandas as pd\n",
        "import numpy as np\n",
        "\n",
        "# nltk\n",
        "import nltk\n",
        "from nltk.tokenize import word_tokenize\n",
        "from nltk import pos_tag,  ne_chunk\n",
        "from nltk.metrics import jaccard_distance\n",
        "from nltk.stem import WordNetLemmatizer\n",
        "from nltk.tree import Tree\n",
        "from string import punctuation\n",
        "\n",
        "nltk.download('stopwords')\n",
        "nltk.download('words')\n",
        "nltk.download('wordnet')\n",
        "nltk.download('punkt_tab')\n",
        "nltk.download('averaged_perceptron_tagger_eng')\n",
        "nltk.download('maxent_ne_chunker_tab')\n",
        "nltk.download('words')\n",
        "\n",
        "# spacy\n",
        "import spacy\n",
        "nlp = spacy.load('en_core_web_sm')\n",
        "\n",
        "# Visualization\n",
        "import matplotlib.pyplot as plt\n",
        "import seaborn as sns\n",
        "\n",
        "# Google Colab specific\n",
        "from IPython import get_ipython\n",
        "from IPython.display import display\n",
        "from google.colab import drive\n",
        "drive.mount('/content/drive')\n",
        "\n",
        "\n",
        "# preprocessing\n",
        "stop_words = set(nltk.corpus.stopwords.words('english'))\n",
        "wnl = nltk.stem.WordNetLemmatizer()\n",
        "\n",
        "# Distance\n",
        "from nltk.metrics import jaccard_distance\n",
        "from scipy.stats import pearsonr\n"
      ]
    },
    {
      "cell_type": "markdown",
      "metadata": {
        "id": "_yu8wf9pni-d"
      },
      "source": [
        "## Useful functions\n",
        "\n"
      ]
    },
    {
      "cell_type": "code",
      "execution_count": null,
      "metadata": {
        "id": "zP8nZBVAnlBj"
      },
      "outputs": [],
      "source": [
        "# preprocessing\n",
        "def lemmatize(p):\n",
        "  d = {'NN': 'n', 'NNS': 'n',\n",
        "       'JJ': 'a', 'JJR': 'a', 'JJS': 'a',\n",
        "       'VB': 'v', 'VBD': 'v', 'VBG': 'v', 'VBN': 'v', 'VBP': 'v', 'VBZ': 'v',\n",
        "       'RB': 'r', 'RBR': 'r', 'RBS': 'r'}\n",
        "  if p[1] in d:\n",
        "    return wnl.lemmatize(p[0], pos=d[p[1]])\n",
        "  return p[0]\n",
        "\n",
        "\n",
        "def lemmatize_sentence(tokens):\n",
        "    pos_tags = nltk.pos_tag(tokens)\n",
        "    lemmatized_tokens = [lemmatize(pair) for pair in pos_tags]\n",
        "    return lemmatized_tokens\n",
        "\n",
        "def compute_pearson_correlation(dt, column_name):\n",
        "    return pearsonr(dt['gs'], dt[column_name])[0]\n",
        "\n",
        "def plot_pearson_comparison(correlations, labels):\n",
        "\n",
        "    # color palette (so we dont have to provide it, as variable nº of inputs)\n",
        "    colors = sns.color_palette(n_colors=len(labels))\n",
        "\n",
        "    # plot bar graph\n",
        "    plt.figure(figsize=(8, 6))\n",
        "    bars = plt.bar(labels, correlations, color=colors)\n",
        "\n",
        "    plt.ylabel(\"Pearson's Correlation\")\n",
        "    plt.title(\"Comparison of Pearson's Correlation for Different Methods\")\n",
        "    plt.ylim(0, 1)  # Adjust the range based on your data\n",
        "\n",
        "    # number above each bar (clarity)\n",
        "    for bar in bars:\n",
        "        yval = bar.get_height()\n",
        "        plt.text(bar.get_x() + bar.get_width() / 2, yval, round(yval, 3), ha='center', va='bottom')\n",
        "\n",
        "    # show plot\n",
        "    plt.show()"
      ]
    },
    {
      "cell_type": "markdown",
      "metadata": {
        "id": "o6YwvqkHk9GB"
      },
      "source": [
        "## Data Loading & Preprocessing\n",
        "Also accounts for Exercise 1"
      ]
    },
    {
      "cell_type": "code",
      "source": [
        "# load base data\n",
        "dt = pd.read_csv('/content/drive/MyDrive/MAI_IHLT_LAB/data/test-gold/STS.input.SMTeuroparl.txt',sep='\\t',header=None)\n",
        "\n",
        "# include the gs labels\n",
        "dt['gs'] = pd.read_csv('/content/drive/MyDrive/MAI_IHLT_LAB/data/test-gold/STS.gs.SMTeuroparl.txt',sep='\\t',header=None)"
      ],
      "metadata": {
        "id": "EeiZmFDAkmjl"
      },
      "execution_count": null,
      "outputs": []
    },
    {
      "cell_type": "code",
      "source": [
        "# preprocessing\n",
        "dt.drop_duplicates(inplace=True) # as we found out before, there are 142 duplicates!\n",
        "\n",
        "# rename columns\n",
        "dt.rename(columns={0:'s0', 1:'s1'}, inplace=True)"
      ],
      "metadata": {
        "id": "-VYBl7Fnksfw"
      },
      "execution_count": null,
      "outputs": []
    },
    {
      "cell_type": "code",
      "source": [
        "# tokenize the sentences\n",
        "dt['s0_tokens'] = dt.apply(lambda row: word_tokenize(row[\"s0\"]), axis=1)\n",
        "dt['s1_tokens'] = dt.apply(lambda row: word_tokenize(row[\"s1\"]), axis=1)"
      ],
      "metadata": {
        "id": "uGFGkC9uks_M"
      },
      "execution_count": null,
      "outputs": []
    },
    {
      "cell_type": "markdown",
      "source": [
        "## For benchmarking, result from lab3"
      ],
      "metadata": {
        "id": "Ak5DKrJyu1Dx"
      }
    },
    {
      "cell_type": "code",
      "source": [
        "dt['s0_preprocessed'] = dt['s0_tokens'].apply(\n",
        "    lambda tokens: [\n",
        "        (word, word.lower() if word.lower() not in stop_words and word not in punctuation else None)\n",
        "        for word in lemmatize_sentence(tokens)\n",
        "    ]\n",
        ")\n",
        "\n",
        "dt['s1_preprocessed'] = dt['s1_tokens'].apply(\n",
        "    lambda tokens: [\n",
        "        (word, word.lower() if word.lower() not in stop_words and word not in punctuation else None)\n",
        "        for word in lemmatize_sentence(tokens)\n",
        "    ]\n",
        ")\n",
        "\n",
        "dt['jd_lab3'] = dt.apply(\n",
        "    lambda row: (1 - jaccard_distance(\n",
        "        set([word[1] for word in row['s0_preprocessed'] if word[1] is not None]),  # use only the second element if not None\n",
        "        set([word[1] for word in row['s1_preprocessed'] if word[1] is not None])\n",
        "    )) * 5, axis=1\n",
        ")\n",
        "\n",
        "pearson_cor_lab3 = compute_pearson_correlation(dt, 'jd_lab3')"
      ],
      "metadata": {
        "id": "BniDiWqTu4R1"
      },
      "execution_count": null,
      "outputs": []
    },
    {
      "cell_type": "markdown",
      "metadata": {
        "id": "TNKTIp6TlxEE"
      },
      "source": [
        "## Exercices"
      ]
    },
    {
      "cell_type": "markdown",
      "metadata": {
        "id": "bDaO9Oztg4aE"
      },
      "source": [
        "### Exercice 2\n",
        "Compute their similarities by considering the following approach: words plus NEs and Jaccard coefficient ex: word_and_NEs=['John Smith', 'is', 'working']"
      ]
    },
    {
      "cell_type": "code",
      "source": [
        "def extract_words_and_nes_nltk(sentence):\n",
        "    tokens = word_tokenize(sentence)\n",
        "    pos_tags = pos_tag(tokens)\n",
        "    chunks = ne_chunk(pos_tags)\n",
        "\n",
        "    words_and_nes = []\n",
        "    for chunk in chunks:\n",
        "\n",
        "        # if a named entity\n",
        "        if isinstance(chunk, Tree):\n",
        "            words_and_nes.append(\" \".join(c[0] for c in chunk))\n",
        "\n",
        "        # if not a named entity\n",
        "        else:\n",
        "            words_and_nes.append(chunk[0])\n",
        "\n",
        "    return words_and_nes\n",
        "\n",
        "def extract_words_and_nes_spacy(sentence):\n",
        "    doc = nlp(sentence)\n",
        "    with doc.retokenize() as retokenizer:\n",
        "        for ent in doc.ents:\n",
        "            retokenizer.merge(doc[ent.start:ent.end],\n",
        "                              attrs={\"LEMMA\": \" \".join([token.text for token in ent])})\n",
        "    return [token.text for token in doc]"
      ],
      "metadata": {
        "id": "8ty1X7-VnlXk"
      },
      "execution_count": null,
      "outputs": []
    },
    {
      "cell_type": "code",
      "source": [
        "dt['s0_nltk'] = dt['s0'].apply(extract_words_and_nes_nltk)\n",
        "dt['s1_nltk'] = dt['s1'].apply(extract_words_and_nes_nltk)\n",
        "\n",
        "dt['s0_spacy'] = dt['s0'].apply(extract_words_and_nes_spacy)\n",
        "dt['s1_spacy'] = dt['s1'].apply(extract_words_and_nes_spacy)"
      ],
      "metadata": {
        "id": "VliKu9Ugk4yg"
      },
      "execution_count": null,
      "outputs": []
    },
    {
      "cell_type": "code",
      "source": [
        "dt['jd_nltk'] = dt.apply(\n",
        "    lambda row: (1 - jaccard_distance(\n",
        "        set([word.lower() for word in row['s0_nltk'] if word.lower() not in stop_words and word not in punctuation]),\n",
        "        set([word.lower() for word in row['s1_nltk'] if word.lower() not in stop_words and word not in punctuation])\n",
        "    )) * 5, axis=1\n",
        ")\n",
        "\n",
        "dt['jd_spacy'] = dt.apply(\n",
        "    lambda row: (1 - jaccard_distance(\n",
        "        set([word.lower() for word in row['s0_spacy'] if word.lower() not in stop_words and word not in punctuation]),\n",
        "        set([word.lower() for word in row['s1_spacy'] if word.lower() not in stop_words and word not in punctuation])\n",
        "    )) * 5, axis=1\n",
        ")"
      ],
      "metadata": {
        "id": "AN1AuP35oxrF"
      },
      "execution_count": null,
      "outputs": []
    },
    {
      "cell_type": "code",
      "source": [
        "pearson_cor_nltk = compute_pearson_correlation(dt, 'jd_nltk')\n",
        "pearson_cor_spacy = compute_pearson_correlation(dt, 'jd_spacy')"
      ],
      "metadata": {
        "id": "j9ymnbGut4d4"
      },
      "execution_count": null,
      "outputs": []
    },
    {
      "cell_type": "markdown",
      "source": [
        "### Exercice 3\n",
        "Show the results.\n"
      ],
      "metadata": {
        "id": "JUzFt-rGtrnv"
      }
    },
    {
      "cell_type": "code",
      "source": [
        "# comparing a benchmark (lab 3) against the current two methods:\n",
        "plot_pearson_comparison([pearson_cor_lab3, pearson_cor_nltk, pearson_cor_spacy], ['lab3', 'nltk', 'spacy'])"
      ],
      "metadata": {
        "colab": {
          "base_uri": "https://localhost:8080/",
          "height": 545
        },
        "id": "HZShco6Ht1tw",
        "outputId": "fc024233-e2bf-4f10-9119-66eb83a8ee29"
      },
      "execution_count": null,
      "outputs": [
        {
          "output_type": "display_data",
          "data": {
            "text/plain": [
              "<Figure size 800x600 with 1 Axes>"
            ],
            "image/png": "[encoded data removed]"
          },
          "metadata": {}
        }
      ]
    },
    {
      "cell_type": "markdown",
      "source": [
        " Both methods seem to underperform, with nltk doing slightly better than spacy. Let's visualize head-to-head their performance:"
      ],
      "metadata": {
        "id": "FfTBAqc8zKbG"
      }
    },
    {
      "cell_type": "code",
      "source": [
        "# lists so we can check who made what changes\n",
        "nltk_changes      = []\n",
        "spacy_changes     = []\n",
        "both_changed      = []\n",
        "only_nltk_changed = []\n",
        "only_spacy_changed= []\n",
        "\n",
        "# compare\n",
        "def detect_changes(row):\n",
        "    original_tokens = word_tokenize(row['s0'])\n",
        "    nltk_tokens   = row['s0_nltk']\n",
        "    spacy_tokens  = row['s0_spacy']\n",
        "\n",
        "    nltk_changed  = nltk_tokens != original_tokens\n",
        "    spacy_changed = spacy_tokens != original_tokens\n",
        "\n",
        "    nltk_changes.append(nltk_changed)\n",
        "    spacy_changes.append(spacy_changed)\n",
        "\n",
        "    if nltk_changed and spacy_changed:\n",
        "        both_changed.append(True)\n",
        "        only_nltk_changed.append(False)\n",
        "        only_spacy_changed.append(False)\n",
        "    elif nltk_changed and not spacy_changed:\n",
        "        both_changed.append(False)\n",
        "        only_nltk_changed.append(True)\n",
        "        only_spacy_changed.append(False)\n",
        "    elif not nltk_changed and spacy_changed:\n",
        "        both_changed.append(False)\n",
        "        only_nltk_changed.append(False)\n",
        "        only_spacy_changed.append(True)\n",
        "    else:\n",
        "        both_changed.append(False)\n",
        "        only_nltk_changed.append(False)\n",
        "        only_spacy_changed.append(False)\n",
        "\n",
        "    return pd.Series({\n",
        "        'nltk_changed': nltk_changed,\n",
        "        'spacy_changed': spacy_changed\n",
        "    })"
      ],
      "metadata": {
        "id": "N62nfvvcy3hE"
      },
      "execution_count": null,
      "outputs": []
    },
    {
      "cell_type": "code",
      "source": [
        "dt[['nltk_changed', 'spacy_changed']] = dt.apply(detect_changes, axis=1) # find changes at any row!"
      ],
      "metadata": {
        "id": "inoG-TWi0VU3"
      },
      "execution_count": null,
      "outputs": []
    },
    {
      "cell_type": "code",
      "source": [
        "# this looks complex but is just counts and prints, one can just look at results\n",
        "\n",
        "total_sentences           = len(dt)\n",
        "nltk_changed_count        = sum(dt['nltk_changed'])\n",
        "spacy_changed_count       = sum(dt['spacy_changed'])\n",
        "both_changed_count        = sum(dt['nltk_changed'] & dt['spacy_changed'])\n",
        "only_nltk_changed_count   = sum(dt['nltk_changed'] & ~dt['spacy_changed'])\n",
        "only_spacy_changed_count  = sum(~dt['nltk_changed'] & dt['spacy_changed'])\n",
        "\n",
        "print(f\"Total sentences: {total_sentences}\")\n",
        "print(f\"NLTK made changes in {nltk_changed_count} sentences.\")\n",
        "print(f\"spaCy made changes in {spacy_changed_count} sentences.\")\n",
        "print(f\"Both NLTK and spaCy made changes in {both_changed_count} sentences.\")\n",
        "print(f\"Only NLTK made changes in {only_nltk_changed_count} sentences.\")\n",
        "print(f\"Only spaCy made changes in {only_spacy_changed_count} sentences.\")\n",
        "\n",
        "# show some examples where they are different!\n",
        "differences = dt[(dt['nltk_changed'] != dt['spacy_changed'])]\n",
        "\n",
        "print(\"\\nExamples where NLTK and spaCy made different changes:\")\n",
        "for idx, row in differences.head(5).iterrows():\n",
        "    print(f\"\\nSentence index: {idx}\")\n",
        "    print(f\"Original Sentence: {row['s0']}\")\n",
        "    print(f\"Original Tokens: {word_tokenize(row['s0'])}\")\n",
        "    print(f\"NLTK Tokens: {row['s0_nltk']}\")\n",
        "    print(f\"spaCy Tokens: {row['s0_spacy']}\")\n"
      ],
      "metadata": {
        "colab": {
          "base_uri": "https://localhost:8080/"
        },
        "id": "hBxak5jd0dpn",
        "outputId": "7be149d6-8b53-4d67-8e8a-d1fe0cb0c0c3"
      },
      "execution_count": 19,
      "outputs": [
        {
          "output_type": "stream",
          "name": "stdout",
          "text": [
            "Total sentences: 317\n",
            "NLTK made changes in 27 sentences.\n",
            "spaCy made changes in 45 sentences.\n",
            "Both NLTK and spaCy made changes in 27 sentences.\n",
            "Only NLTK made changes in 0 sentences.\n",
            "Only spaCy made changes in 18 sentences.\n",
            "\n",
            "Examples where NLTK and spaCy made different changes:\n",
            "\n",
            "Sentence index: 3\n",
            "Original Sentence: The vote will take place today at 5.30 p.m.\n",
            "Original Tokens: ['The', 'vote', 'will', 'take', 'place', 'today', 'at', '5.30', 'p.m', '.']\n",
            "NLTK Tokens: ['The', 'vote', 'will', 'take', 'place', 'today', 'at', '5.30', 'p.m', '.']\n",
            "spaCy Tokens: ['The', 'vote', 'will', 'take', 'place', 'today', 'at', '5.30 p.m.']\n",
            "\n",
            "Sentence index: 5\n",
            "Original Sentence: Neither was there a qualified majority within this House to revert to Article 272.\n",
            "Original Tokens: ['Neither', 'was', 'there', 'a', 'qualified', 'majority', 'within', 'this', 'House', 'to', 'revert', 'to', 'Article', '272', '.']\n",
            "NLTK Tokens: ['Neither', 'was', 'there', 'a', 'qualified', 'majority', 'within', 'this', 'House', 'to', 'revert', 'to', 'Article', '272', '.']\n",
            "spaCy Tokens: ['Neither', 'was', 'there', 'a', 'qualified', 'majority', 'within', 'this', 'House', 'to', 'revert', 'to', 'Article 272', '.']\n",
            "\n",
            "Sentence index: 9\n",
            "Original Sentence: The vote will take place today at 5.30 p.m.\n",
            "Original Tokens: ['The', 'vote', 'will', 'take', 'place', 'today', 'at', '5.30', 'p.m', '.']\n",
            "NLTK Tokens: ['The', 'vote', 'will', 'take', 'place', 'today', 'at', '5.30', 'p.m', '.']\n",
            "spaCy Tokens: ['The', 'vote', 'will', 'take', 'place', 'today', 'at', '5.30 p.m.']\n",
            "\n",
            "Sentence index: 16\n",
            "Original Sentence: Neither was there a qualified majority within this House to revert to Article 272.\n",
            "Original Tokens: ['Neither', 'was', 'there', 'a', 'qualified', 'majority', 'within', 'this', 'House', 'to', 'revert', 'to', 'Article', '272', '.']\n",
            "NLTK Tokens: ['Neither', 'was', 'there', 'a', 'qualified', 'majority', 'within', 'this', 'House', 'to', 'revert', 'to', 'Article', '272', '.']\n",
            "spaCy Tokens: ['Neither', 'was', 'there', 'a', 'qualified', 'majority', 'within', 'this', 'House', 'to', 'revert', 'to', 'Article 272', '.']\n",
            "\n",
            "Sentence index: 37\n",
            "Original Sentence: Neither was there a qualified majority within this House to revert to Article 272.\n",
            "Original Tokens: ['Neither', 'was', 'there', 'a', 'qualified', 'majority', 'within', 'this', 'House', 'to', 'revert', 'to', 'Article', '272', '.']\n",
            "NLTK Tokens: ['Neither', 'was', 'there', 'a', 'qualified', 'majority', 'within', 'this', 'House', 'to', 'revert', 'to', 'Article', '272', '.']\n",
            "spaCy Tokens: ['Neither', 'was', 'there', 'a', 'qualified', 'majority', 'within', 'this', 'House', 'to', 'revert', 'to', 'Article 272', '.']\n"
          ]
        }
      ]
    },
    {
      "cell_type": "markdown",
      "source": [
        "**Analysis:**\n",
        "Spacy gives a lower pearson correlation than nltk because it works much better at NER! e.g. it can correctly join the time, things like \"Article 272\", ...\n",
        "\n",
        "See next section for analysis on why NER worsens performance."
      ],
      "metadata": {
        "id": "K5AtPP2q0wIK"
      }
    },
    {
      "cell_type": "markdown",
      "metadata": {
        "id": "9QmwjuTEmB_U"
      },
      "source": [
        "### Exercices 4\n",
        "\n",
        "Do you think it could be relevant to use NEs to compute the similarity between two sentences? Justify the answer.\n",
        "\n"
      ]
    },
    {
      "cell_type": "markdown",
      "metadata": {
        "id": "70iCJAoZoUWD"
      },
      "source": [
        "**Final Analysis and Conclusion:**\n",
        "\n",
        "Yes, it could be relevant. Let us first analyse why NEs underperformed, and later argue how they could be better employed.\n",
        "\n",
        "In our examples, our method underperforms against other methods (e.g. lab3) because we are purely uniting words belonging to the same named entity sequence. Given we use jaccard distance for similarity, which compares directly the sets, we ***lose*** information, as we have less tokens; moreover, the tokens we join tend to be key, as named entities are usually important to the meaning of the sentence.\n",
        "\n",
        "\n",
        "A correct way to use NEs could be to recognise when two sentences are talking of the same kind of thing. Let us illustrate with an example, given two sentences:\n",
        "  - A: \"John Smith bought a house in London.\"\n",
        "  - B: \"Emily Johnson purchased a home in Paris.\"\n",
        "\n",
        "If we focused only on the tokens and jaccard similarity, we would end up with a similarity of 0, even though the sentences are quite similar! If we instead realise they both say someone is buying a house, and add as extra information that the first two tokens constitute a PERSON, and the last token constitues a LOCATION, we could significantly improve our similarity measure. Perhaps we could give less, but still some weight, when tokens do not match directly but they share the same NE."
      ]
    }
  ],
  "metadata": {
    "colab": {
      "collapsed_sections": [
        "o6YwvqkHk9GB"
      ],
      "provenance": []
    },
    "kernelspec": {
      "display_name": ".venv",
      "language": "python",
      "name": "python3"
    },
    "language_info": {
      "name": "python",
      "version": "3.12.1"
    }
  },
  "nbformat": 4,
  "nbformat_minor": 0
}