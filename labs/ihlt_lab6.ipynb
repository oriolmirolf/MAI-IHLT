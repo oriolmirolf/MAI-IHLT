{
  "nbformat": 4,
  "nbformat_minor": 0,
  "metadata": {
    "colab": {
      "provenance": [],
      "collapsed_sections": [
        "o6YwvqkHk9GB"
      ]
    },
    "kernelspec": {
      "name": "python3",
      "display_name": "Python 3"
    },
    "language_info": {
      "name": "python"
    }
  },
  "cells": [
    {
      "cell_type": "markdown",
      "source": [
        "# IHLT Lab 6\n",
        "\n",
        "Lab developed by:\n",
        "- Oriol Miró López-Feliu\n",
        "- Niklas Long Schiefelbein\n",
        "\n",
        "\n",
        "**Exercice description:**\n",
        "1. Read all pairs of sentences of the SMTeuroparl files of test set within the evaluation framework of the project.\n",
        "2. Apply WSD algorithms to the words in the sentences.\n",
        "3. Compute their similarities by considering senses and Jaccard coefficient.\n",
        "4. Compare the results with those in session 2 (document) and 3 (morphology) in which words and lemmas were considered.\n",
        "5. Compare the results with gold standard by giving the pearson correlation between them."
      ],
      "metadata": {
        "id": "ke1NvTvnkuS7"
      }
    },
    {
      "cell_type": "markdown",
      "source": [
        "## Imports"
      ],
      "metadata": {
        "id": "elWVdHIXlmkg"
      }
    },
    {
      "cell_type": "code",
      "source": [
        "# basic\n",
        "import pandas as pd\n",
        "import nltk\n",
        "import os\n",
        "import json\n",
        "from tqdm import tqdm # for ukb as it is quite slow\n",
        "\n",
        "# preprocessing\n",
        "from nltk.tokenize import word_tokenize\n",
        "nltk.download('punkt')\n",
        "\n",
        "from string import punctuation\n",
        "\n",
        "nltk.download('stopwords')\n",
        "stop_words = set(nltk.corpus.stopwords.words('english'))\n",
        "\n",
        "nltk.download('averaged_perceptron_tagger')\n",
        "from nltk import pos_tag\n",
        "\n",
        "# distance\n",
        "from nltk.metrics import jaccard_distance\n",
        "from scipy.stats import pearsonr\n",
        "\n",
        "# for lesk\n",
        "import nltk\n",
        "from nltk.wsd import lesk\n",
        "nltk.download('wordnet')\n",
        "nltk.download('omw-1.4')\n",
        "\n",
        "# mount google drive (data loading & textserver)\n",
        "from google.colab import drive\n",
        "drive.mount('/content/drive')\n",
        "\n",
        "# for textserver\n",
        "import sys\n",
        "sys.path.insert(0, '/content/drive/MyDrive/MAI_IHLT_LAB')\n",
        "from textserver import TextServer\n",
        "\n",
        "# plotting\n",
        "import matplotlib.pyplot as plt\n",
        "import seaborn as sns"
      ],
      "metadata": {
        "colab": {
          "base_uri": "https://localhost:8080/"
        },
        "id": "2M_pPFc8loWP",
        "outputId": "5ed7e9aa-fa66-4534-d46a-7ac7ad467375"
      },
      "execution_count": 2,
      "outputs": [
        {
          "output_type": "stream",
          "name": "stderr",
          "text": [
            "[nltk_data] Downloading package punkt to /root/nltk_data...\n",
            "[nltk_data]   Unzipping tokenizers/punkt.zip.\n",
            "[nltk_data] Downloading package stopwords to /root/nltk_data...\n",
            "[nltk_data]   Unzipping corpora/stopwords.zip.\n",
            "[nltk_data] Downloading package averaged_perceptron_tagger to\n",
            "[nltk_data]     /root/nltk_data...\n",
            "[nltk_data]   Unzipping taggers/averaged_perceptron_tagger.zip.\n",
            "[nltk_data] Downloading package wordnet to /root/nltk_data...\n",
            "[nltk_data] Downloading package omw-1.4 to /root/nltk_data...\n"
          ]
        },
        {
          "output_type": "stream",
          "name": "stdout",
          "text": [
            "Mounted at /content/drive\n"
          ]
        }
      ]
    },
    {
      "cell_type": "markdown",
      "source": [
        "## Useful functions\n",
        "\n",
        "(Less bloated code)"
      ],
      "metadata": {
        "id": "_yu8wf9pni-d"
      }
    },
    {
      "cell_type": "code",
      "source": [
        "# simple function for readibility\n",
        "def get_wordnet_pos(nltk_pos_tag):\n",
        "    if nltk_pos_tag.startswith('J'):\n",
        "        return 'a'\n",
        "    elif nltk_pos_tag.startswith('V'):\n",
        "        return 'v'\n",
        "    elif nltk_pos_tag.startswith('N'):\n",
        "        return 'n'\n",
        "    elif nltk_pos_tag.startswith('R'):\n",
        "        return 'r'\n",
        "    else:\n",
        "        return None\n",
        "\n",
        "# preprocessing\n",
        "wnl = nltk.stem.WordNetLemmatizer()\n",
        "def lemmatize(p):\n",
        "  d = {'NN': 'n', 'NNS': 'n',\n",
        "       'JJ': 'a', 'JJR': 'a', 'JJS': 'a',\n",
        "       'VB': 'v', 'VBD': 'v', 'VBG': 'v', 'VBN': 'v', 'VBP': 'v', 'VBZ': 'v',\n",
        "       'RB': 'r', 'RBR': 'r', 'RBS': 'r'}\n",
        "  if p[1] in d:\n",
        "    return wnl.lemmatize(p[0], pos=d[p[1]])\n",
        "  return p[0]\n",
        "\n",
        "\n",
        "def lemmatize_sentence(tokens):\n",
        "    pos_tags = nltk.pos_tag(tokens)\n",
        "    lemmatized_tokens = [lemmatize(pair) for pair in pos_tags]\n",
        "    return lemmatized_tokens\n",
        "\n",
        "# plotting\n",
        "\n",
        "def compute_pearson_correlation(dt, column_name):\n",
        "    return pearsonr(dt['gs'], dt[column_name])[0]\n",
        "\n",
        "def plot_pearson_comparison(correlations, labels):\n",
        "\n",
        "    # color palette (so we dont have to provide it, as variable nº of inputs)\n",
        "    colors = sns.color_palette(n_colors=len(labels))\n",
        "\n",
        "    # plot bar graph\n",
        "    plt.figure(figsize=(8, 6))\n",
        "    bars = plt.bar(labels, correlations, color=colors)\n",
        "\n",
        "    plt.ylabel(\"Pearson's Correlation\")\n",
        "    plt.title(\"Comparison of Pearson's Correlation for Different Methods\")\n",
        "    plt.ylim(0, 1)  # Adjust the range based on your data\n",
        "\n",
        "    # number above each bar (clarity)\n",
        "    for bar in bars:\n",
        "        yval = bar.get_height()\n",
        "        plt.text(bar.get_x() + bar.get_width() / 2, yval, round(yval, 3), ha='center', va='bottom')\n",
        "\n",
        "    # show plot\n",
        "    plt.show()\n",
        "\n",
        "def display_examples(examples, title):\n",
        "    print(f\"\\n{title}:\\n\")\n",
        "    for idx, row in examples.iterrows():\n",
        "        print(f\"Sentence 1: {row['s0']}\")\n",
        "        print(f\"Sentence 2: {row['s1']}\")\n",
        "\n",
        "        lab3_s0 = [word2 for word1, word2 in row['s0_preprocessed'] if word2 is not None]\n",
        "        lab3_s1 = [word2 for word1, word2 in row['s1_preprocessed'] if word2 is not None]\n",
        "        print(f\"Lab3 Sentence 1: {lab3_s0}\")\n",
        "        print(f\"Lab3 Sentence 2: {lab3_s1}\")\n",
        "        print(f\"Current Sentence 1: {row['s0_synsets_and_preprocessed']}\")\n",
        "        print(f\"Current Sentence 2: {row['s1_synsets_and_preprocessed']}\")\n",
        "\n",
        "        print(f\"Gold Standard (gs): {row['gs']}\")\n",
        "        print(f\"Jaccard (Lab 3): {row['jd_lab3']}\")\n",
        "        print(f\"Jaccard (Current Lab): {row['jd_synsets_and_preprocessed']}\")\n",
        "        print(f\"Difference (Lab 3): {row['diff_lab3']:.4f}\")\n",
        "        print(f\"Difference (Current Lab): {row['diff_current_lab']:.4f}\")\n",
        "        print(\"-\" * 50)"
      ],
      "metadata": {
        "id": "zP8nZBVAnlBj"
      },
      "execution_count": 3,
      "outputs": []
    },
    {
      "cell_type": "markdown",
      "source": [
        "## Data Loading"
      ],
      "metadata": {
        "id": "o6YwvqkHk9GB"
      }
    },
    {
      "cell_type": "code",
      "source": [
        "# load base data\n",
        "dt = pd.read_csv('/content/drive/MyDrive/MAI_IHLT_LAB/data/test-gold/STS.input.SMTeuroparl.txt',sep='\\t',header=None)\n",
        "\n",
        "# include the gs labels\n",
        "dt['gs'] = pd.read_csv('/content/drive/MyDrive/MAI_IHLT_LAB/data/test-gold/STS.gs.SMTeuroparl.txt',sep='\\t',header=None)"
      ],
      "metadata": {
        "id": "nDfN1bDnlPjB"
      },
      "execution_count": 4,
      "outputs": []
    },
    {
      "cell_type": "code",
      "source": [
        "# preprocessing\n",
        "dt.drop_duplicates(inplace=True) # as we found out last session that there are 142 duplicates!\n",
        "\n",
        "# rename columns\n",
        "dt.rename(columns={0:'s0', 1:'s1'}, inplace=True)"
      ],
      "metadata": {
        "id": "16hD7c8xlQ8n"
      },
      "execution_count": 5,
      "outputs": []
    },
    {
      "cell_type": "markdown",
      "source": [
        "## Exercices"
      ],
      "metadata": {
        "id": "TNKTIp6TlxEE"
      }
    },
    {
      "cell_type": "markdown",
      "source": [
        "### Exercice 1\n",
        "Apply WSD algorithms to the words in the sentences.\n",
        "\n",
        "PD: this is really exercise 2 but we are not counting data loading"
      ],
      "metadata": {
        "id": "-lRNvREsl1DT"
      }
    },
    {
      "cell_type": "code",
      "source": [
        "# preprocessing\n",
        "\n",
        "# tokenize\n",
        "dt['s0_tokens'] = dt.apply(lambda row: word_tokenize(row[\"s0\"]), axis=1)\n",
        "dt['s1_tokens'] = dt.apply(lambda row: word_tokenize(row[\"s1\"]), axis=1)"
      ],
      "metadata": {
        "id": "JCQonMD1soMh"
      },
      "execution_count": 6,
      "outputs": []
    },
    {
      "cell_type": "markdown",
      "source": [
        "#### Lesk"
      ],
      "metadata": {
        "id": "McPoS6X8p5RI"
      }
    },
    {
      "cell_type": "code",
      "source": [
        "# NOTE: Function declared here as it is only used for this case\n",
        "\n",
        "# function to disambiguate all tokens in a sentence using lesk (where applicable: open-class words)\n",
        "def disambiguate_with_lesk(sentence_tokens):\n",
        "\n",
        "    # 1. get all POS\n",
        "    pos_tags = pos_tag(sentence_tokens)\n",
        "\n",
        "    # 2. disambiguate\n",
        "    disambiguated = [] # we return a list, (word, synset); synset == None if not applicable\n",
        "\n",
        "    for token, nltk_pos in pos_tags:\n",
        "        wn_pos = get_wordnet_pos(nltk_pos)\n",
        "        if wn_pos:\n",
        "            synset = lesk(sentence_tokens, token, wn_pos) # apply lesk\n",
        "            disambiguated.append((token, synset.name() if synset else None))\n",
        "        else:\n",
        "            disambiguated.append((token, None))\n",
        "\n",
        "    return disambiguated"
      ],
      "metadata": {
        "id": "UWNuxptol0BP"
      },
      "execution_count": 7,
      "outputs": []
    },
    {
      "cell_type": "code",
      "source": [
        "# apply function\n",
        "dt['s0_disambiguated_lesk'] = dt['s0_tokens'].apply(disambiguate_with_lesk)\n",
        "dt['s1_disambiguated_lesk'] = dt['s1_tokens'].apply(disambiguate_with_lesk)"
      ],
      "metadata": {
        "id": "UHlSFoL-bCH6"
      },
      "execution_count": 8,
      "outputs": []
    },
    {
      "cell_type": "code",
      "source": [
        "# check it was okay\n",
        "print(dt['s0_disambiguated_lesk'].head())\n",
        "print(dt['s0_disambiguated_lesk'].tail())"
      ],
      "metadata": {
        "colab": {
          "base_uri": "https://localhost:8080/"
        },
        "id": "_PG4bBlpZs3a",
        "outputId": "4c29ceee-94a0-4320-a979-101b2167c325"
      },
      "execution_count": 9,
      "outputs": [
        {
          "output_type": "stream",
          "name": "stdout",
          "text": [
            "0    [(The, None), (leaders, leadership.n.02), (hav...\n",
            "1    [(Amendment, amendment.n.02), (No, nobelium.n....\n",
            "2    [(Let, let.v.01), (me, None), (remind, remind....\n",
            "3    [(The, None), (vote, vote.n.05), (will, None),...\n",
            "4    [(The, None), (fishermen, fisherman.n.01), (ar...\n",
            "Name: s0_disambiguated_lesk, dtype: object\n",
            "452    [(Then, then.r.02), (perhaps, possibly.r.01), ...\n",
            "453    [(Let, let.v.01), (me, None), (remind, remind....\n",
            "454    [(It, None), (is, be.v.01), (our, None), (job,...\n",
            "455    [(The, None), (vote, vote.n.05), (will, None),...\n",
            "457    [(Let, let.v.01), (me, None), (remind, remind....\n",
            "Name: s0_disambiguated_lesk, dtype: object\n"
          ]
        }
      ]
    },
    {
      "cell_type": "markdown",
      "source": [
        "#### UKB\n",
        "\n",
        "NOTE: The code below contains our best effort; nevertheless, we abandoned ukb,because the server keeps banning us after a number of petitions,sometimes 50, sometimes 10 (!!?). Given we have to disambiguate 317*2 = 634 sentences and we must make a new account every time we are banned this is unfeasible."
      ],
      "metadata": {
        "id": "HHJ1BIDwbTOY"
      }
    },
    {
      "cell_type": "code",
      "source": [
        "# setup (this should be done with environment variables read from a file! but textserver kept banning os so...)\n",
        "username = \"uri_niki_3\"\n",
        "password = \"hJ16XNA0.\"\n",
        "ts = TextServer(username, password, \"senses\")"
      ],
      "metadata": {
        "id": "B_HCudYWb9Ad"
      },
      "execution_count": 11,
      "outputs": []
    },
    {
      "cell_type": "markdown",
      "source": [
        "#### As per the professor, to save intermediate results:"
      ],
      "metadata": {
        "id": "4MHtOdaxb2y8"
      }
    },
    {
      "cell_type": "code",
      "source": [
        "# Check if the aux file exists, and load its content if it does\n",
        "\n",
        "aux_file = 'disambiguation_results_ukb.json'\n",
        "\n",
        "if os.path.exists(aux_file):\n",
        "    with open(aux_file, 'r') as f:\n",
        "        disambiguation_results = json.load(f)\n",
        "else:\n",
        "    disambiguation_results = {}"
      ],
      "metadata": {
        "id": "5t6pJWIzb2XX"
      },
      "execution_count": 12,
      "outputs": []
    },
    {
      "cell_type": "code",
      "source": [
        "# function to disambiguate all tokens in a sentence using ukb, and save results\n",
        "def disambiguate_with_ukb(sentence, key):\n",
        "    # check if already processed\n",
        "    if key in disambiguation_results:\n",
        "        return disambiguation_results[key]\n",
        "\n",
        "    # otherwise we process it\n",
        "    try:\n",
        "        # call text server\n",
        "        result = ts.senses(sentence)\n",
        "\n",
        "        # save result\n",
        "        disambiguation_results[key] = result\n",
        "        with open(aux_file, 'w') as f:\n",
        "            json.dump(disambiguation_results, f)\n",
        "\n",
        "        return result\n",
        "\n",
        "    # it crashed (or banned us >:( )\n",
        "    except Exception as e:\n",
        "        print(f\"Error processing sentence '{sentence}': {e}\")\n",
        "        return None"
      ],
      "metadata": {
        "id": "LnTHIJOAcbH8"
      },
      "execution_count": 13,
      "outputs": []
    },
    {
      "cell_type": "code",
      "source": [
        "# try to apply ukb (\"sx_idx\" is a key to store the results)\n",
        "\n",
        "# server keeps banning us at 50 petitions, sometimes at 10 (!!?)\n",
        "# as per the professor we will ignore ukb despite our best efforts, as we have to disambiguate 317*2 = 634 sentences and we must make a new account every time.\n",
        "\n",
        "dt['s0_disambiguated_ukb'] = [\n",
        "    disambiguate_with_ukb(row['s0'], f\"s0_{idx}\") for idx, row in tqdm(dt.iterrows(), total=dt.shape[0])\n",
        "]\n",
        "\n",
        "# For sentences in column \"s1\" (use the index as part of the key)\n",
        "dt['s1_disambiguated_ukb'] = [\n",
        "    disambiguate_with_ukb(row['s1'], f\"s1_{idx}\") for idx, row in tqdm(dt.iterrows(), total=dt.shape[0])\n",
        "]"
      ],
      "metadata": {
        "colab": {
          "base_uri": "https://localhost:8080/",
          "height": 1000
        },
        "id": "pGAzXRXLdaFr",
        "outputId": "27ddb9a5-0833-48dc-8089-9ebcf4c18e1f"
      },
      "execution_count": 14,
      "outputs": [
        {
          "output_type": "stream",
          "name": "stderr",
          "text": [
            " 16%|█▌        | 51/317 [00:52<03:48,  1.16it/s]"
          ]
        },
        {
          "output_type": "stream",
          "name": "stdout",
          "text": [
            "Error processing sentence 'The leaders have now been given a new chance and let us hope they seize it.': 401 Client Error:  for url: http://frodo.lsi.upc.edu:8080/TextWS/textservlet/ws/processQuery/senses\n"
          ]
        },
        {
          "output_type": "stream",
          "name": "stderr",
          "text": [
            "\r 16%|█▋        | 52/317 [00:52<03:19,  1.33it/s]"
          ]
        },
        {
          "output_type": "stream",
          "name": "stdout",
          "text": [
            "Error processing sentence 'As I already explained during second reading, there is a crisis underlying this directive amendment.': 401 Client Error:  for url: http://frodo.lsi.upc.edu:8080/TextWS/textservlet/ws/processQuery/senses\n"
          ]
        },
        {
          "output_type": "stream",
          "name": "stderr",
          "text": [
            "\r 17%|█▋        | 53/317 [00:53<03:02,  1.45it/s]"
          ]
        },
        {
          "output_type": "stream",
          "name": "stdout",
          "text": [
            "Error processing sentence 'Van Orden Report (A5-0241/2000)': 401 Client Error:  for url: http://frodo.lsi.upc.edu:8080/TextWS/textservlet/ws/processQuery/senses\n"
          ]
        },
        {
          "output_type": "stream",
          "name": "stderr",
          "text": [
            "\r 17%|█▋        | 54/317 [00:53<02:45,  1.58it/s]"
          ]
        },
        {
          "output_type": "stream",
          "name": "stdout",
          "text": [
            "Error processing sentence 'Then perhaps we could have avoided a catastrophe.': 401 Client Error:  for url: http://frodo.lsi.upc.edu:8080/TextWS/textservlet/ws/processQuery/senses\n"
          ]
        },
        {
          "output_type": "stream",
          "name": "stderr",
          "text": [
            "\r 17%|█▋        | 55/317 [00:54<02:34,  1.69it/s]"
          ]
        },
        {
          "output_type": "stream",
          "name": "stdout",
          "text": [
            "Error processing sentence 'It is our job to continue to support Latvia with the integration of the Russian population.': 401 Client Error:  for url: http://frodo.lsi.upc.edu:8080/TextWS/textservlet/ws/processQuery/senses\n"
          ]
        },
        {
          "output_type": "stream",
          "name": "stderr",
          "text": [
            "\r 18%|█▊        | 56/317 [00:54<02:27,  1.77it/s]"
          ]
        },
        {
          "output_type": "stream",
          "name": "stdout",
          "text": [
            "Error processing sentence 'Mr President, I rise in defence of the workers in the industry.': 401 Client Error:  for url: http://frodo.lsi.upc.edu:8080/TextWS/textservlet/ws/processQuery/senses\n"
          ]
        },
        {
          "output_type": "stream",
          "name": "stderr",
          "text": [
            "\r 18%|█▊        | 57/317 [00:55<02:23,  1.81it/s]"
          ]
        },
        {
          "output_type": "stream",
          "name": "stdout",
          "text": [
            "Error processing sentence 'It is our job to continue to support Latvia with the integration of the Russian population.': 401 Client Error:  for url: http://frodo.lsi.upc.edu:8080/TextWS/textservlet/ws/processQuery/senses\n"
          ]
        },
        {
          "output_type": "stream",
          "name": "stderr",
          "text": [
            "\r 18%|█▊        | 58/317 [00:55<02:20,  1.84it/s]"
          ]
        },
        {
          "output_type": "stream",
          "name": "stdout",
          "text": [
            "Error processing sentence 'I am one of those Members who attends sittings quite faithfully.': 401 Client Error:  for url: http://frodo.lsi.upc.edu:8080/TextWS/textservlet/ws/processQuery/senses\n"
          ]
        },
        {
          "output_type": "stream",
          "name": "stderr",
          "text": [
            "\r 19%|█▊        | 59/317 [00:56<02:16,  1.89it/s]"
          ]
        },
        {
          "output_type": "stream",
          "name": "stdout",
          "text": [
            "Error processing sentence 'Let me remind you that our allies include fervent supporters of this tax.': 401 Client Error:  for url: http://frodo.lsi.upc.edu:8080/TextWS/textservlet/ws/processQuery/senses\n"
          ]
        },
        {
          "output_type": "stream",
          "name": "stderr",
          "text": [
            "\r 19%|█▉        | 60/317 [00:56<02:12,  1.94it/s]"
          ]
        },
        {
          "output_type": "stream",
          "name": "stdout",
          "text": [
            "Error processing sentence 'Unanimous decisions, and hence an inherent incapacity to act, remain largely the norm in the Council.': 401 Client Error:  for url: http://frodo.lsi.upc.edu:8080/TextWS/textservlet/ws/processQuery/senses\n"
          ]
        },
        {
          "output_type": "stream",
          "name": "stderr",
          "text": [
            "\r 19%|█▉        | 61/317 [00:57<02:11,  1.95it/s]"
          ]
        },
        {
          "output_type": "stream",
          "name": "stdout",
          "text": [
            "Error processing sentence 'Van Orden Report (A5-0241/2000)': 401 Client Error:  for url: http://frodo.lsi.upc.edu:8080/TextWS/textservlet/ws/processQuery/senses\n"
          ]
        },
        {
          "output_type": "stream",
          "name": "stderr",
          "text": [
            "\r 20%|█▉        | 62/317 [00:57<02:09,  1.98it/s]"
          ]
        },
        {
          "output_type": "stream",
          "name": "stdout",
          "text": [
            "Error processing sentence 'It is our job to continue to support Latvia with the integration of the Russian population.': 401 Client Error:  for url: http://frodo.lsi.upc.edu:8080/TextWS/textservlet/ws/processQuery/senses\n"
          ]
        },
        {
          "output_type": "stream",
          "name": "stderr",
          "text": [
            "\r 20%|█▉        | 63/317 [00:58<02:06,  2.00it/s]"
          ]
        },
        {
          "output_type": "stream",
          "name": "stdout",
          "text": [
            "Error processing sentence 'Van Orden Report (A5-0241/2000)': 401 Client Error:  for url: http://frodo.lsi.upc.edu:8080/TextWS/textservlet/ws/processQuery/senses\n"
          ]
        },
        {
          "output_type": "stream",
          "name": "stderr",
          "text": [
            "\r 20%|██        | 64/317 [00:58<02:04,  2.03it/s]"
          ]
        },
        {
          "output_type": "stream",
          "name": "stdout",
          "text": [
            "Error processing sentence 'Mr President, the Cashman report can be summarised in four words: citizens' power over bureaucracy.': 401 Client Error:  for url: http://frodo.lsi.upc.edu:8080/TextWS/textservlet/ws/processQuery/senses\n"
          ]
        },
        {
          "output_type": "stream",
          "name": "stderr",
          "text": [
            "\r 21%|██        | 65/317 [00:59<02:04,  2.02it/s]"
          ]
        },
        {
          "output_type": "stream",
          "name": "stdout",
          "text": [
            "Error processing sentence 'Consumers will lose out, employees will lose out, Europe will lose competitive strength and growth.': 401 Client Error:  for url: http://frodo.lsi.upc.edu:8080/TextWS/textservlet/ws/processQuery/senses\n"
          ]
        },
        {
          "output_type": "stream",
          "name": "stderr",
          "text": [
            "\r 21%|██        | 66/317 [00:59<02:03,  2.04it/s]"
          ]
        },
        {
          "output_type": "stream",
          "name": "stdout",
          "text": [
            "Error processing sentence 'It is our job to continue to support Latvia with the integration of the Russian population.': 401 Client Error:  for url: http://frodo.lsi.upc.edu:8080/TextWS/textservlet/ws/processQuery/senses\n"
          ]
        },
        {
          "output_type": "stream",
          "name": "stderr",
          "text": [
            "\r 21%|██        | 67/317 [01:00<02:50,  1.46it/s]"
          ]
        },
        {
          "output_type": "stream",
          "name": "stdout",
          "text": [
            "Error processing sentence 'That provision could open the door wide to arbitrariness.': 401 Client Error:  for url: http://frodo.lsi.upc.edu:8080/TextWS/textservlet/ws/processQuery/senses\n"
          ]
        },
        {
          "output_type": "stream",
          "name": "stderr",
          "text": [
            "\r 21%|██▏       | 68/317 [01:01<02:36,  1.59it/s]"
          ]
        },
        {
          "output_type": "stream",
          "name": "stdout",
          "text": [
            "Error processing sentence 'The fishermen are inactive, tired and disappointed.': 401 Client Error:  for url: http://frodo.lsi.upc.edu:8080/TextWS/textservlet/ws/processQuery/senses\n"
          ]
        },
        {
          "output_type": "stream",
          "name": "stderr",
          "text": [
            "\r 22%|██▏       | 69/317 [01:01<02:26,  1.69it/s]"
          ]
        },
        {
          "output_type": "stream",
          "name": "stdout",
          "text": [
            "Error processing sentence 'The European Union has got to do something and do it quickly.': 401 Client Error:  for url: http://frodo.lsi.upc.edu:8080/TextWS/textservlet/ws/processQuery/senses\n"
          ]
        },
        {
          "output_type": "stream",
          "name": "stderr",
          "text": [
            "\r 22%|██▏       | 70/317 [01:02<02:17,  1.79it/s]"
          ]
        },
        {
          "output_type": "stream",
          "name": "stdout",
          "text": [
            "Error processing sentence 'It increases the power of the big countries at the expense of the small countries.': 401 Client Error:  for url: http://frodo.lsi.upc.edu:8080/TextWS/textservlet/ws/processQuery/senses\n"
          ]
        },
        {
          "output_type": "stream",
          "name": "stderr",
          "text": [
            "\r 22%|██▏       | 71/317 [01:02<02:11,  1.87it/s]"
          ]
        },
        {
          "output_type": "stream",
          "name": "stdout",
          "text": [
            "Error processing sentence 'The standards are scarcely comparable, let alone transferable.': 401 Client Error:  for url: http://frodo.lsi.upc.edu:8080/TextWS/textservlet/ws/processQuery/senses\n"
          ]
        },
        {
          "output_type": "stream",
          "name": "stderr",
          "text": [
            "\r 23%|██▎       | 72/317 [01:03<02:08,  1.91it/s]"
          ]
        },
        {
          "output_type": "stream",
          "name": "stdout",
          "text": [
            "Error processing sentence 'The standards are scarcely comparable, let alone transferable.': 401 Client Error:  for url: http://frodo.lsi.upc.edu:8080/TextWS/textservlet/ws/processQuery/senses\n"
          ]
        },
        {
          "output_type": "stream",
          "name": "stderr",
          "text": [
            "\r 23%|██▎       | 73/317 [01:03<02:04,  1.96it/s]"
          ]
        },
        {
          "output_type": "stream",
          "name": "stdout",
          "text": [
            "Error processing sentence 'Neither was there a qualified majority within this House to revert to Article 272.': 401 Client Error:  for url: http://frodo.lsi.upc.edu:8080/TextWS/textservlet/ws/processQuery/senses\n"
          ]
        },
        {
          "output_type": "stream",
          "name": "stderr",
          "text": [
            "\r 23%|██▎       | 74/317 [01:04<02:04,  1.95it/s]"
          ]
        },
        {
          "output_type": "stream",
          "name": "stdout",
          "text": [
            "Error processing sentence 'Amendment No 7 proposes certain changes in the references to paragraphs.': 401 Client Error:  for url: http://frodo.lsi.upc.edu:8080/TextWS/textservlet/ws/processQuery/senses\n"
          ]
        },
        {
          "output_type": "stream",
          "name": "stderr",
          "text": [
            "\r 24%|██▎       | 75/317 [01:04<02:02,  1.97it/s]"
          ]
        },
        {
          "output_type": "stream",
          "name": "stdout",
          "text": [
            "Error processing sentence 'Van Orden Report (A5-0241/2000)': 401 Client Error:  for url: http://frodo.lsi.upc.edu:8080/TextWS/textservlet/ws/processQuery/senses\n"
          ]
        },
        {
          "output_type": "stream",
          "name": "stderr",
          "text": [
            "\r 24%|██▍       | 76/317 [01:05<02:02,  1.97it/s]"
          ]
        },
        {
          "output_type": "stream",
          "name": "stdout",
          "text": [
            "Error processing sentence 'Mr President, I rise in defence of the workers in the industry.': 401 Client Error:  for url: http://frodo.lsi.upc.edu:8080/TextWS/textservlet/ws/processQuery/senses\n"
          ]
        },
        {
          "output_type": "stream",
          "name": "stderr",
          "text": [
            "\r 24%|██▍       | 77/317 [01:05<01:59,  2.01it/s]"
          ]
        },
        {
          "output_type": "stream",
          "name": "stdout",
          "text": [
            "Error processing sentence 'That provision could open the door wide to arbitrariness.': 401 Client Error:  for url: http://frodo.lsi.upc.edu:8080/TextWS/textservlet/ws/processQuery/senses\n"
          ]
        },
        {
          "output_type": "stream",
          "name": "stderr",
          "text": [
            "\r 25%|██▍       | 78/317 [01:06<02:00,  1.99it/s]"
          ]
        },
        {
          "output_type": "stream",
          "name": "stdout",
          "text": [
            "Error processing sentence 'Mr President, the Cashman report can be summarised in four words: citizens' power over bureaucracy.': 401 Client Error:  for url: http://frodo.lsi.upc.edu:8080/TextWS/textservlet/ws/processQuery/senses\n"
          ]
        },
        {
          "output_type": "stream",
          "name": "stderr",
          "text": [
            "\r 25%|██▍       | 79/317 [01:06<01:59,  2.00it/s]"
          ]
        },
        {
          "output_type": "stream",
          "name": "stdout",
          "text": [
            "Error processing sentence 'Consumers will lose out, employees will lose out, Europe will lose competitive strength and growth.': 401 Client Error:  for url: http://frodo.lsi.upc.edu:8080/TextWS/textservlet/ws/processQuery/senses\n"
          ]
        },
        {
          "output_type": "stream",
          "name": "stderr",
          "text": [
            "\r 25%|██▌       | 80/317 [01:07<01:58,  2.00it/s]"
          ]
        },
        {
          "output_type": "stream",
          "name": "stdout",
          "text": [
            "Error processing sentence 'It increases the power of the big countries at the expense of the small countries.': 401 Client Error:  for url: http://frodo.lsi.upc.edu:8080/TextWS/textservlet/ws/processQuery/senses\n"
          ]
        },
        {
          "output_type": "stream",
          "name": "stderr",
          "text": [
            "\r 26%|██▌       | 81/317 [01:07<01:59,  1.98it/s]"
          ]
        },
        {
          "output_type": "stream",
          "name": "stdout",
          "text": [
            "Error processing sentence 'I am one of those Members who attends sittings quite faithfully.': 401 Client Error:  for url: http://frodo.lsi.upc.edu:8080/TextWS/textservlet/ws/processQuery/senses\n"
          ]
        },
        {
          "output_type": "stream",
          "name": "stderr",
          "text": [
            "\r 26%|██▌       | 82/317 [01:08<01:58,  1.99it/s]"
          ]
        },
        {
          "output_type": "stream",
          "name": "stdout",
          "text": [
            "Error processing sentence 'The leaders have now been given a new chance and let us hope they seize it.': 401 Client Error:  for url: http://frodo.lsi.upc.edu:8080/TextWS/textservlet/ws/processQuery/senses\n"
          ]
        },
        {
          "output_type": "stream",
          "name": "stderr",
          "text": [
            "\r 26%|██▌       | 83/317 [01:08<01:57,  1.99it/s]"
          ]
        },
        {
          "output_type": "stream",
          "name": "stdout",
          "text": [
            "Error processing sentence 'Selective aid, such as market support and a grass subsidy, are essential.': 401 Client Error:  for url: http://frodo.lsi.upc.edu:8080/TextWS/textservlet/ws/processQuery/senses\n"
          ]
        },
        {
          "output_type": "stream",
          "name": "stderr",
          "text": [
            "\r 26%|██▋       | 84/317 [01:09<01:56,  2.00it/s]"
          ]
        },
        {
          "output_type": "stream",
          "name": "stdout",
          "text": [
            "Error processing sentence 'I am one of those Members who attends sittings quite faithfully.': 401 Client Error:  for url: http://frodo.lsi.upc.edu:8080/TextWS/textservlet/ws/processQuery/senses\n"
          ]
        },
        {
          "output_type": "stream",
          "name": "stderr",
          "text": [
            "\r 27%|██▋       | 85/317 [01:09<01:56,  2.00it/s]"
          ]
        },
        {
          "output_type": "stream",
          "name": "stdout",
          "text": [
            "Error processing sentence 'There must be a balance as a whole.': 401 Client Error:  for url: http://frodo.lsi.upc.edu:8080/TextWS/textservlet/ws/processQuery/senses\n"
          ]
        },
        {
          "output_type": "stream",
          "name": "stderr",
          "text": [
            "\r 27%|██▋       | 86/317 [01:10<01:54,  2.02it/s]"
          ]
        },
        {
          "output_type": "stream",
          "name": "stdout",
          "text": [
            "Error processing sentence 'Mr President, I rise in defence of the workers in the industry.': 401 Client Error:  for url: http://frodo.lsi.upc.edu:8080/TextWS/textservlet/ws/processQuery/senses\n"
          ]
        },
        {
          "output_type": "stream",
          "name": "stderr",
          "text": [
            "\r 27%|██▋       | 87/317 [01:10<01:56,  1.97it/s]"
          ]
        },
        {
          "output_type": "stream",
          "name": "stdout",
          "text": [
            "Error processing sentence 'Then perhaps we could have avoided a catastrophe.': 401 Client Error:  for url: http://frodo.lsi.upc.edu:8080/TextWS/textservlet/ws/processQuery/senses\n"
          ]
        },
        {
          "output_type": "stream",
          "name": "stderr",
          "text": [
            "\r 28%|██▊       | 88/317 [01:11<01:58,  1.92it/s]"
          ]
        },
        {
          "output_type": "stream",
          "name": "stdout",
          "text": [
            "Error processing sentence 'The European Union has got to do something and do it quickly.': 401 Client Error:  for url: http://frodo.lsi.upc.edu:8080/TextWS/textservlet/ws/processQuery/senses\n"
          ]
        },
        {
          "output_type": "stream",
          "name": "stderr",
          "text": [
            "\r 28%|██▊       | 89/317 [01:11<01:59,  1.91it/s]"
          ]
        },
        {
          "output_type": "stream",
          "name": "stdout",
          "text": [
            "Error processing sentence 'Selective aid, such as market support and a grass subsidy, are essential.': 401 Client Error:  for url: http://frodo.lsi.upc.edu:8080/TextWS/textservlet/ws/processQuery/senses\n"
          ]
        },
        {
          "output_type": "stream",
          "name": "stderr",
          "text": [
            "\r 28%|██▊       | 90/317 [01:12<01:57,  1.93it/s]"
          ]
        },
        {
          "output_type": "stream",
          "name": "stdout",
          "text": [
            "Error processing sentence 'Mr President, I rise in defence of the workers in the industry.': 401 Client Error:  for url: http://frodo.lsi.upc.edu:8080/TextWS/textservlet/ws/processQuery/senses\n"
          ]
        },
        {
          "output_type": "stream",
          "name": "stderr",
          "text": [
            "\r 29%|██▊       | 91/317 [01:13<01:57,  1.92it/s]"
          ]
        },
        {
          "output_type": "stream",
          "name": "stdout",
          "text": [
            "Error processing sentence 'The vote will take place today at 5.30 p.m.': 401 Client Error:  for url: http://frodo.lsi.upc.edu:8080/TextWS/textservlet/ws/processQuery/senses\n"
          ]
        },
        {
          "output_type": "stream",
          "name": "stderr",
          "text": [
            "\r 29%|██▉       | 92/317 [01:13<01:56,  1.94it/s]"
          ]
        },
        {
          "output_type": "stream",
          "name": "stdout",
          "text": [
            "Error processing sentence 'That provision could open the door wide to arbitrariness.': 401 Client Error:  for url: http://frodo.lsi.upc.edu:8080/TextWS/textservlet/ws/processQuery/senses\n"
          ]
        },
        {
          "output_type": "stream",
          "name": "stderr",
          "text": [
            "\r 29%|██▉       | 93/317 [01:14<01:54,  1.95it/s]"
          ]
        },
        {
          "output_type": "stream",
          "name": "stdout",
          "text": [
            "Error processing sentence 'As I already explained during second reading, there is a crisis underlying this directive amendment.': 401 Client Error:  for url: http://frodo.lsi.upc.edu:8080/TextWS/textservlet/ws/processQuery/senses\n"
          ]
        },
        {
          "output_type": "stream",
          "name": "stderr",
          "text": [
            "\r 30%|██▉       | 94/317 [01:14<01:52,  1.98it/s]"
          ]
        },
        {
          "output_type": "stream",
          "name": "stdout",
          "text": [
            "Error processing sentence 'The European Union has got to do something and do it quickly.': 401 Client Error:  for url: http://frodo.lsi.upc.edu:8080/TextWS/textservlet/ws/processQuery/senses\n"
          ]
        },
        {
          "output_type": "stream",
          "name": "stderr",
          "text": [
            "\r 30%|██▉       | 95/317 [01:15<01:51,  1.99it/s]"
          ]
        },
        {
          "output_type": "stream",
          "name": "stdout",
          "text": [
            "Error processing sentence 'Unanimous decisions, and hence an inherent incapacity to act, remain largely the norm in the Council.': 401 Client Error:  for url: http://frodo.lsi.upc.edu:8080/TextWS/textservlet/ws/processQuery/senses\n"
          ]
        },
        {
          "output_type": "stream",
          "name": "stderr",
          "text": [
            "\r 30%|███       | 96/317 [01:15<01:51,  1.99it/s]"
          ]
        },
        {
          "output_type": "stream",
          "name": "stdout",
          "text": [
            "Error processing sentence 'As I already explained during second reading, there is a crisis underlying this directive amendment.': 401 Client Error:  for url: http://frodo.lsi.upc.edu:8080/TextWS/textservlet/ws/processQuery/senses\n"
          ]
        },
        {
          "output_type": "stream",
          "name": "stderr",
          "text": [
            "\r 31%|███       | 97/317 [01:17<03:31,  1.04it/s]"
          ]
        },
        {
          "output_type": "stream",
          "name": "stdout",
          "text": [
            "Error processing sentence 'Mr President, I rise in defence of the workers in the industry.': 401 Client Error:  for url: http://frodo.lsi.upc.edu:8080/TextWS/textservlet/ws/processQuery/senses\n"
          ]
        },
        {
          "output_type": "error",
          "ename": "KeyboardInterrupt",
          "evalue": "",
          "traceback": [
            "\u001b[0;31m---------------------------------------------------------------------------\u001b[0m",
            "\u001b[0;31mKeyboardInterrupt\u001b[0m                         Traceback (most recent call last)",
            "\u001b[0;32m<ipython-input-14-db4c5687872e>\u001b[0m in \u001b[0;36m<cell line: 6>\u001b[0;34m()\u001b[0m\n\u001b[1;32m      4\u001b[0m \u001b[0;31m# as per the professor we will ignore ukb despite our best efforts, as we have to disambiguate 317*2 = 634 sentences and we must make a new account every time.\u001b[0m\u001b[0;34m\u001b[0m\u001b[0;34m\u001b[0m\u001b[0m\n\u001b[1;32m      5\u001b[0m \u001b[0;34m\u001b[0m\u001b[0m\n\u001b[0;32m----> 6\u001b[0;31m dt['s0_disambiguated_ukb'] = [\n\u001b[0m\u001b[1;32m      7\u001b[0m     \u001b[0mdisambiguate_with_ukb\u001b[0m\u001b[0;34m(\u001b[0m\u001b[0mrow\u001b[0m\u001b[0;34m[\u001b[0m\u001b[0;34m's0'\u001b[0m\u001b[0;34m]\u001b[0m\u001b[0;34m,\u001b[0m \u001b[0;34mf\"s0_{idx}\"\u001b[0m\u001b[0;34m)\u001b[0m \u001b[0;32mfor\u001b[0m \u001b[0midx\u001b[0m\u001b[0;34m,\u001b[0m \u001b[0mrow\u001b[0m \u001b[0;32min\u001b[0m \u001b[0mtqdm\u001b[0m\u001b[0;34m(\u001b[0m\u001b[0mdt\u001b[0m\u001b[0;34m.\u001b[0m\u001b[0miterrows\u001b[0m\u001b[0;34m(\u001b[0m\u001b[0;34m)\u001b[0m\u001b[0;34m,\u001b[0m \u001b[0mtotal\u001b[0m\u001b[0;34m=\u001b[0m\u001b[0mdt\u001b[0m\u001b[0;34m.\u001b[0m\u001b[0mshape\u001b[0m\u001b[0;34m[\u001b[0m\u001b[0;36m0\u001b[0m\u001b[0;34m]\u001b[0m\u001b[0;34m)\u001b[0m\u001b[0;34m\u001b[0m\u001b[0;34m\u001b[0m\u001b[0m\n\u001b[1;32m      8\u001b[0m ]\n",
            "\u001b[0;32m<ipython-input-14-db4c5687872e>\u001b[0m in \u001b[0;36m<listcomp>\u001b[0;34m(.0)\u001b[0m\n\u001b[1;32m      5\u001b[0m \u001b[0;34m\u001b[0m\u001b[0m\n\u001b[1;32m      6\u001b[0m dt['s0_disambiguated_ukb'] = [\n\u001b[0;32m----> 7\u001b[0;31m     \u001b[0mdisambiguate_with_ukb\u001b[0m\u001b[0;34m(\u001b[0m\u001b[0mrow\u001b[0m\u001b[0;34m[\u001b[0m\u001b[0;34m's0'\u001b[0m\u001b[0;34m]\u001b[0m\u001b[0;34m,\u001b[0m \u001b[0;34mf\"s0_{idx}\"\u001b[0m\u001b[0;34m)\u001b[0m \u001b[0;32mfor\u001b[0m \u001b[0midx\u001b[0m\u001b[0;34m,\u001b[0m \u001b[0mrow\u001b[0m \u001b[0;32min\u001b[0m \u001b[0mtqdm\u001b[0m\u001b[0;34m(\u001b[0m\u001b[0mdt\u001b[0m\u001b[0;34m.\u001b[0m\u001b[0miterrows\u001b[0m\u001b[0;34m(\u001b[0m\u001b[0;34m)\u001b[0m\u001b[0;34m,\u001b[0m \u001b[0mtotal\u001b[0m\u001b[0;34m=\u001b[0m\u001b[0mdt\u001b[0m\u001b[0;34m.\u001b[0m\u001b[0mshape\u001b[0m\u001b[0;34m[\u001b[0m\u001b[0;36m0\u001b[0m\u001b[0;34m]\u001b[0m\u001b[0;34m)\u001b[0m\u001b[0;34m\u001b[0m\u001b[0;34m\u001b[0m\u001b[0m\n\u001b[0m\u001b[1;32m      8\u001b[0m ]\n\u001b[1;32m      9\u001b[0m \u001b[0;34m\u001b[0m\u001b[0m\n",
            "\u001b[0;32m<ipython-input-13-2159f38408dd>\u001b[0m in \u001b[0;36mdisambiguate_with_ukb\u001b[0;34m(sentence, key)\u001b[0m\n\u001b[1;32m      8\u001b[0m     \u001b[0;32mtry\u001b[0m\u001b[0;34m:\u001b[0m\u001b[0;34m\u001b[0m\u001b[0;34m\u001b[0m\u001b[0m\n\u001b[1;32m      9\u001b[0m         \u001b[0;31m# call text server\u001b[0m\u001b[0;34m\u001b[0m\u001b[0;34m\u001b[0m\u001b[0m\n\u001b[0;32m---> 10\u001b[0;31m         \u001b[0mresult\u001b[0m \u001b[0;34m=\u001b[0m \u001b[0mts\u001b[0m\u001b[0;34m.\u001b[0m\u001b[0msenses\u001b[0m\u001b[0;34m(\u001b[0m\u001b[0msentence\u001b[0m\u001b[0;34m)\u001b[0m\u001b[0;34m\u001b[0m\u001b[0;34m\u001b[0m\u001b[0m\n\u001b[0m\u001b[1;32m     11\u001b[0m \u001b[0;34m\u001b[0m\u001b[0m\n\u001b[1;32m     12\u001b[0m         \u001b[0;31m# save result\u001b[0m\u001b[0;34m\u001b[0m\u001b[0;34m\u001b[0m\u001b[0m\n",
            "\u001b[0;32m/content/drive/MyDrive/MAI_IHLT_LAB/textserver.py\u001b[0m in \u001b[0;36msenses\u001b[0;34m(self, text, pandas)\u001b[0m\n\u001b[1;32m     57\u001b[0m \u001b[0;34m\u001b[0m\u001b[0m\n\u001b[1;32m     58\u001b[0m     \u001b[0mself\u001b[0m\u001b[0;34m.\u001b[0m\u001b[0mservice\u001b[0m \u001b[0;34m=\u001b[0m \u001b[0;34m'senses'\u001b[0m\u001b[0;34m\u001b[0m\u001b[0;34m\u001b[0m\u001b[0m\n\u001b[0;32m---> 59\u001b[0;31m     \u001b[0mctnt\u001b[0m \u001b[0;34m=\u001b[0m \u001b[0mself\u001b[0m\u001b[0;34m.\u001b[0m\u001b[0mquery\u001b[0m\u001b[0;34m(\u001b[0m\u001b[0mtext\u001b[0m\u001b[0;34m)\u001b[0m\u001b[0;34m\u001b[0m\u001b[0;34m\u001b[0m\u001b[0m\n\u001b[0m\u001b[1;32m     60\u001b[0m     \u001b[0;32mif\u001b[0m \u001b[0mpandas\u001b[0m\u001b[0;34m:\u001b[0m\u001b[0;34m\u001b[0m\u001b[0;34m\u001b[0m\u001b[0m\n\u001b[1;32m     61\u001b[0m       \u001b[0mdt\u001b[0m \u001b[0;34m=\u001b[0m \u001b[0mlist\u001b[0m\u001b[0;34m(\u001b[0m\u001b[0mmap\u001b[0m\u001b[0;34m(\u001b[0m\u001b[0;32mlambda\u001b[0m \u001b[0ms\u001b[0m\u001b[0;34m:\u001b[0m \u001b[0minfo\u001b[0m\u001b[0;34m(\u001b[0m\u001b[0ms\u001b[0m\u001b[0;34m,\u001b[0m \u001b[0mcols\u001b[0m\u001b[0;34m)\u001b[0m\u001b[0;34m,\u001b[0m \u001b[0msents\u001b[0m\u001b[0;34m(\u001b[0m\u001b[0mpars\u001b[0m\u001b[0;34m(\u001b[0m\u001b[0mload\u001b[0m\u001b[0;34m(\u001b[0m\u001b[0mctnt\u001b[0m\u001b[0;34m)\u001b[0m\u001b[0;34m)\u001b[0m\u001b[0;34m[\u001b[0m\u001b[0;36m0\u001b[0m\u001b[0;34m]\u001b[0m\u001b[0;34m)\u001b[0m\u001b[0;34m)\u001b[0m\u001b[0;34m)\u001b[0m\u001b[0;34m\u001b[0m\u001b[0;34m\u001b[0m\u001b[0m\n",
            "\u001b[0;32m/content/drive/MyDrive/MAI_IHLT_LAB/textserver.py\u001b[0m in \u001b[0;36mquery\u001b[0;34m(self, text)\u001b[0m\n\u001b[1;32m     28\u001b[0m     \u001b[0murl\u001b[0m \u001b[0;34m=\u001b[0m \u001b[0;34m\"http://frodo.lsi.upc.edu:8080/TextWS/textservlet/ws/processQuery/\"\u001b[0m\u001b[0;34m+\u001b[0m\u001b[0mself\u001b[0m\u001b[0;34m.\u001b[0m\u001b[0mservice\u001b[0m\u001b[0;34m\u001b[0m\u001b[0;34m\u001b[0m\u001b[0m\n\u001b[1;32m     29\u001b[0m     \u001b[0mself\u001b[0m\u001b[0;34m.\u001b[0m\u001b[0mrequest_data\u001b[0m\u001b[0;34m[\u001b[0m\u001b[0;34m'text_input'\u001b[0m\u001b[0;34m]\u001b[0m \u001b[0;34m=\u001b[0m \u001b[0mtext\u001b[0m\u001b[0;34m\u001b[0m\u001b[0;34m\u001b[0m\u001b[0m\n\u001b[0;32m---> 30\u001b[0;31m     \u001b[0mresp\u001b[0m \u001b[0;34m=\u001b[0m \u001b[0mrequests\u001b[0m\u001b[0;34m.\u001b[0m\u001b[0mpost\u001b[0m\u001b[0;34m(\u001b[0m\u001b[0murl\u001b[0m\u001b[0;34m,\u001b[0m \u001b[0mfiles\u001b[0m\u001b[0;34m=\u001b[0m\u001b[0mself\u001b[0m\u001b[0;34m.\u001b[0m\u001b[0mrequest_data\u001b[0m\u001b[0;34m)\u001b[0m\u001b[0;34m\u001b[0m\u001b[0;34m\u001b[0m\u001b[0m\n\u001b[0m\u001b[1;32m     31\u001b[0m     \u001b[0;32mif\u001b[0m \u001b[0mresp\u001b[0m\u001b[0;34m.\u001b[0m\u001b[0mstatus_code\u001b[0m \u001b[0;34m!=\u001b[0m \u001b[0mrequests\u001b[0m\u001b[0;34m.\u001b[0m\u001b[0mcodes\u001b[0m\u001b[0;34m.\u001b[0m\u001b[0mok\u001b[0m \u001b[0;34m:\u001b[0m\u001b[0;34m\u001b[0m\u001b[0;34m\u001b[0m\u001b[0m\n\u001b[1;32m     32\u001b[0m       \u001b[0mresp\u001b[0m\u001b[0;34m.\u001b[0m\u001b[0mraise_for_status\u001b[0m\u001b[0;34m(\u001b[0m\u001b[0;34m)\u001b[0m\u001b[0;34m\u001b[0m\u001b[0;34m\u001b[0m\u001b[0m\n",
            "\u001b[0;32m/usr/local/lib/python3.10/dist-packages/requests/api.py\u001b[0m in \u001b[0;36mpost\u001b[0;34m(url, data, json, **kwargs)\u001b[0m\n\u001b[1;32m    113\u001b[0m     \"\"\"\n\u001b[1;32m    114\u001b[0m \u001b[0;34m\u001b[0m\u001b[0m\n\u001b[0;32m--> 115\u001b[0;31m     \u001b[0;32mreturn\u001b[0m \u001b[0mrequest\u001b[0m\u001b[0;34m(\u001b[0m\u001b[0;34m\"post\"\u001b[0m\u001b[0;34m,\u001b[0m \u001b[0murl\u001b[0m\u001b[0;34m,\u001b[0m \u001b[0mdata\u001b[0m\u001b[0;34m=\u001b[0m\u001b[0mdata\u001b[0m\u001b[0;34m,\u001b[0m \u001b[0mjson\u001b[0m\u001b[0;34m=\u001b[0m\u001b[0mjson\u001b[0m\u001b[0;34m,\u001b[0m \u001b[0;34m**\u001b[0m\u001b[0mkwargs\u001b[0m\u001b[0;34m)\u001b[0m\u001b[0;34m\u001b[0m\u001b[0;34m\u001b[0m\u001b[0m\n\u001b[0m\u001b[1;32m    116\u001b[0m \u001b[0;34m\u001b[0m\u001b[0m\n\u001b[1;32m    117\u001b[0m \u001b[0;34m\u001b[0m\u001b[0m\n",
            "\u001b[0;32m/usr/local/lib/python3.10/dist-packages/requests/api.py\u001b[0m in \u001b[0;36mrequest\u001b[0;34m(method, url, **kwargs)\u001b[0m\n\u001b[1;32m     57\u001b[0m     \u001b[0;31m# cases, and look like a memory leak in others.\u001b[0m\u001b[0;34m\u001b[0m\u001b[0;34m\u001b[0m\u001b[0m\n\u001b[1;32m     58\u001b[0m     \u001b[0;32mwith\u001b[0m \u001b[0msessions\u001b[0m\u001b[0;34m.\u001b[0m\u001b[0mSession\u001b[0m\u001b[0;34m(\u001b[0m\u001b[0;34m)\u001b[0m \u001b[0;32mas\u001b[0m \u001b[0msession\u001b[0m\u001b[0;34m:\u001b[0m\u001b[0;34m\u001b[0m\u001b[0;34m\u001b[0m\u001b[0m\n\u001b[0;32m---> 59\u001b[0;31m         \u001b[0;32mreturn\u001b[0m \u001b[0msession\u001b[0m\u001b[0;34m.\u001b[0m\u001b[0mrequest\u001b[0m\u001b[0;34m(\u001b[0m\u001b[0mmethod\u001b[0m\u001b[0;34m=\u001b[0m\u001b[0mmethod\u001b[0m\u001b[0;34m,\u001b[0m \u001b[0murl\u001b[0m\u001b[0;34m=\u001b[0m\u001b[0murl\u001b[0m\u001b[0;34m,\u001b[0m \u001b[0;34m**\u001b[0m\u001b[0mkwargs\u001b[0m\u001b[0;34m)\u001b[0m\u001b[0;34m\u001b[0m\u001b[0;34m\u001b[0m\u001b[0m\n\u001b[0m\u001b[1;32m     60\u001b[0m \u001b[0;34m\u001b[0m\u001b[0m\n\u001b[1;32m     61\u001b[0m \u001b[0;34m\u001b[0m\u001b[0m\n",
            "\u001b[0;32m/usr/local/lib/python3.10/dist-packages/requests/sessions.py\u001b[0m in \u001b[0;36mrequest\u001b[0;34m(self, method, url, params, data, headers, cookies, files, auth, timeout, allow_redirects, proxies, hooks, stream, verify, cert, json)\u001b[0m\n\u001b[1;32m    587\u001b[0m         }\n\u001b[1;32m    588\u001b[0m         \u001b[0msend_kwargs\u001b[0m\u001b[0;34m.\u001b[0m\u001b[0mupdate\u001b[0m\u001b[0;34m(\u001b[0m\u001b[0msettings\u001b[0m\u001b[0;34m)\u001b[0m\u001b[0;34m\u001b[0m\u001b[0;34m\u001b[0m\u001b[0m\n\u001b[0;32m--> 589\u001b[0;31m         \u001b[0mresp\u001b[0m \u001b[0;34m=\u001b[0m \u001b[0mself\u001b[0m\u001b[0;34m.\u001b[0m\u001b[0msend\u001b[0m\u001b[0;34m(\u001b[0m\u001b[0mprep\u001b[0m\u001b[0;34m,\u001b[0m \u001b[0;34m**\u001b[0m\u001b[0msend_kwargs\u001b[0m\u001b[0;34m)\u001b[0m\u001b[0;34m\u001b[0m\u001b[0;34m\u001b[0m\u001b[0m\n\u001b[0m\u001b[1;32m    590\u001b[0m \u001b[0;34m\u001b[0m\u001b[0m\n\u001b[1;32m    591\u001b[0m         \u001b[0;32mreturn\u001b[0m \u001b[0mresp\u001b[0m\u001b[0;34m\u001b[0m\u001b[0;34m\u001b[0m\u001b[0m\n",
            "\u001b[0;32m/usr/local/lib/python3.10/dist-packages/requests/sessions.py\u001b[0m in \u001b[0;36msend\u001b[0;34m(self, request, **kwargs)\u001b[0m\n\u001b[1;32m    701\u001b[0m \u001b[0;34m\u001b[0m\u001b[0m\n\u001b[1;32m    702\u001b[0m         \u001b[0;31m# Send the request\u001b[0m\u001b[0;34m\u001b[0m\u001b[0;34m\u001b[0m\u001b[0m\n\u001b[0;32m--> 703\u001b[0;31m         \u001b[0mr\u001b[0m \u001b[0;34m=\u001b[0m \u001b[0madapter\u001b[0m\u001b[0;34m.\u001b[0m\u001b[0msend\u001b[0m\u001b[0;34m(\u001b[0m\u001b[0mrequest\u001b[0m\u001b[0;34m,\u001b[0m \u001b[0;34m**\u001b[0m\u001b[0mkwargs\u001b[0m\u001b[0;34m)\u001b[0m\u001b[0;34m\u001b[0m\u001b[0;34m\u001b[0m\u001b[0m\n\u001b[0m\u001b[1;32m    704\u001b[0m \u001b[0;34m\u001b[0m\u001b[0m\n\u001b[1;32m    705\u001b[0m         \u001b[0;31m# Total elapsed time of the request (approximately)\u001b[0m\u001b[0;34m\u001b[0m\u001b[0;34m\u001b[0m\u001b[0m\n",
            "\u001b[0;32m/usr/local/lib/python3.10/dist-packages/requests/adapters.py\u001b[0m in \u001b[0;36msend\u001b[0;34m(self, request, stream, timeout, verify, cert, proxies)\u001b[0m\n\u001b[1;32m    665\u001b[0m \u001b[0;34m\u001b[0m\u001b[0m\n\u001b[1;32m    666\u001b[0m         \u001b[0;32mtry\u001b[0m\u001b[0;34m:\u001b[0m\u001b[0;34m\u001b[0m\u001b[0;34m\u001b[0m\u001b[0m\n\u001b[0;32m--> 667\u001b[0;31m             resp = conn.urlopen(\n\u001b[0m\u001b[1;32m    668\u001b[0m                 \u001b[0mmethod\u001b[0m\u001b[0;34m=\u001b[0m\u001b[0mrequest\u001b[0m\u001b[0;34m.\u001b[0m\u001b[0mmethod\u001b[0m\u001b[0;34m,\u001b[0m\u001b[0;34m\u001b[0m\u001b[0;34m\u001b[0m\u001b[0m\n\u001b[1;32m    669\u001b[0m                 \u001b[0murl\u001b[0m\u001b[0;34m=\u001b[0m\u001b[0murl\u001b[0m\u001b[0;34m,\u001b[0m\u001b[0;34m\u001b[0m\u001b[0;34m\u001b[0m\u001b[0m\n",
            "\u001b[0;32m/usr/local/lib/python3.10/dist-packages/urllib3/connectionpool.py\u001b[0m in \u001b[0;36murlopen\u001b[0;34m(self, method, url, body, headers, retries, redirect, assert_same_host, timeout, pool_timeout, release_conn, chunked, body_pos, preload_content, decode_content, **response_kw)\u001b[0m\n\u001b[1;32m    787\u001b[0m \u001b[0;34m\u001b[0m\u001b[0m\n\u001b[1;32m    788\u001b[0m             \u001b[0;31m# Make the request on the HTTPConnection object\u001b[0m\u001b[0;34m\u001b[0m\u001b[0;34m\u001b[0m\u001b[0m\n\u001b[0;32m--> 789\u001b[0;31m             response = self._make_request(\n\u001b[0m\u001b[1;32m    790\u001b[0m                 \u001b[0mconn\u001b[0m\u001b[0;34m,\u001b[0m\u001b[0;34m\u001b[0m\u001b[0;34m\u001b[0m\u001b[0m\n\u001b[1;32m    791\u001b[0m                 \u001b[0mmethod\u001b[0m\u001b[0;34m,\u001b[0m\u001b[0;34m\u001b[0m\u001b[0;34m\u001b[0m\u001b[0m\n",
            "\u001b[0;32m/usr/local/lib/python3.10/dist-packages/urllib3/connectionpool.py\u001b[0m in \u001b[0;36m_make_request\u001b[0;34m(self, conn, method, url, body, headers, retries, timeout, chunked, response_conn, preload_content, decode_content, enforce_content_length)\u001b[0m\n\u001b[1;32m    534\u001b[0m         \u001b[0;31m# Receive the response from the server\u001b[0m\u001b[0;34m\u001b[0m\u001b[0;34m\u001b[0m\u001b[0m\n\u001b[1;32m    535\u001b[0m         \u001b[0;32mtry\u001b[0m\u001b[0;34m:\u001b[0m\u001b[0;34m\u001b[0m\u001b[0;34m\u001b[0m\u001b[0m\n\u001b[0;32m--> 536\u001b[0;31m             \u001b[0mresponse\u001b[0m \u001b[0;34m=\u001b[0m \u001b[0mconn\u001b[0m\u001b[0;34m.\u001b[0m\u001b[0mgetresponse\u001b[0m\u001b[0;34m(\u001b[0m\u001b[0;34m)\u001b[0m\u001b[0;34m\u001b[0m\u001b[0;34m\u001b[0m\u001b[0m\n\u001b[0m\u001b[1;32m    537\u001b[0m         \u001b[0;32mexcept\u001b[0m \u001b[0;34m(\u001b[0m\u001b[0mBaseSSLError\u001b[0m\u001b[0;34m,\u001b[0m \u001b[0mOSError\u001b[0m\u001b[0;34m)\u001b[0m \u001b[0;32mas\u001b[0m \u001b[0me\u001b[0m\u001b[0;34m:\u001b[0m\u001b[0;34m\u001b[0m\u001b[0;34m\u001b[0m\u001b[0m\n\u001b[1;32m    538\u001b[0m             \u001b[0mself\u001b[0m\u001b[0;34m.\u001b[0m\u001b[0m_raise_timeout\u001b[0m\u001b[0;34m(\u001b[0m\u001b[0merr\u001b[0m\u001b[0;34m=\u001b[0m\u001b[0me\u001b[0m\u001b[0;34m,\u001b[0m \u001b[0murl\u001b[0m\u001b[0;34m=\u001b[0m\u001b[0murl\u001b[0m\u001b[0;34m,\u001b[0m \u001b[0mtimeout_value\u001b[0m\u001b[0;34m=\u001b[0m\u001b[0mread_timeout\u001b[0m\u001b[0;34m)\u001b[0m\u001b[0;34m\u001b[0m\u001b[0;34m\u001b[0m\u001b[0m\n",
            "\u001b[0;32m/usr/local/lib/python3.10/dist-packages/urllib3/connection.py\u001b[0m in \u001b[0;36mgetresponse\u001b[0;34m(self)\u001b[0m\n\u001b[1;32m    505\u001b[0m \u001b[0;34m\u001b[0m\u001b[0m\n\u001b[1;32m    506\u001b[0m         \u001b[0;31m# Get the response from http.client.HTTPConnection\u001b[0m\u001b[0;34m\u001b[0m\u001b[0;34m\u001b[0m\u001b[0m\n\u001b[0;32m--> 507\u001b[0;31m         \u001b[0mhttplib_response\u001b[0m \u001b[0;34m=\u001b[0m \u001b[0msuper\u001b[0m\u001b[0;34m(\u001b[0m\u001b[0;34m)\u001b[0m\u001b[0;34m.\u001b[0m\u001b[0mgetresponse\u001b[0m\u001b[0;34m(\u001b[0m\u001b[0;34m)\u001b[0m\u001b[0;34m\u001b[0m\u001b[0;34m\u001b[0m\u001b[0m\n\u001b[0m\u001b[1;32m    508\u001b[0m \u001b[0;34m\u001b[0m\u001b[0m\n\u001b[1;32m    509\u001b[0m         \u001b[0;32mtry\u001b[0m\u001b[0;34m:\u001b[0m\u001b[0;34m\u001b[0m\u001b[0;34m\u001b[0m\u001b[0m\n",
            "\u001b[0;32m/usr/lib/python3.10/http/client.py\u001b[0m in \u001b[0;36mgetresponse\u001b[0;34m(self)\u001b[0m\n\u001b[1;32m   1373\u001b[0m         \u001b[0;32mtry\u001b[0m\u001b[0;34m:\u001b[0m\u001b[0;34m\u001b[0m\u001b[0;34m\u001b[0m\u001b[0m\n\u001b[1;32m   1374\u001b[0m             \u001b[0;32mtry\u001b[0m\u001b[0;34m:\u001b[0m\u001b[0;34m\u001b[0m\u001b[0;34m\u001b[0m\u001b[0m\n\u001b[0;32m-> 1375\u001b[0;31m                 \u001b[0mresponse\u001b[0m\u001b[0;34m.\u001b[0m\u001b[0mbegin\u001b[0m\u001b[0;34m(\u001b[0m\u001b[0;34m)\u001b[0m\u001b[0;34m\u001b[0m\u001b[0;34m\u001b[0m\u001b[0m\n\u001b[0m\u001b[1;32m   1376\u001b[0m             \u001b[0;32mexcept\u001b[0m \u001b[0mConnectionError\u001b[0m\u001b[0;34m:\u001b[0m\u001b[0;34m\u001b[0m\u001b[0;34m\u001b[0m\u001b[0m\n\u001b[1;32m   1377\u001b[0m                 \u001b[0mself\u001b[0m\u001b[0;34m.\u001b[0m\u001b[0mclose\u001b[0m\u001b[0;34m(\u001b[0m\u001b[0;34m)\u001b[0m\u001b[0;34m\u001b[0m\u001b[0;34m\u001b[0m\u001b[0m\n",
            "\u001b[0;32m/usr/lib/python3.10/http/client.py\u001b[0m in \u001b[0;36mbegin\u001b[0;34m(self)\u001b[0m\n\u001b[1;32m    316\u001b[0m         \u001b[0;31m# read until we get a non-100 response\u001b[0m\u001b[0;34m\u001b[0m\u001b[0;34m\u001b[0m\u001b[0m\n\u001b[1;32m    317\u001b[0m         \u001b[0;32mwhile\u001b[0m \u001b[0;32mTrue\u001b[0m\u001b[0;34m:\u001b[0m\u001b[0;34m\u001b[0m\u001b[0;34m\u001b[0m\u001b[0m\n\u001b[0;32m--> 318\u001b[0;31m             \u001b[0mversion\u001b[0m\u001b[0;34m,\u001b[0m \u001b[0mstatus\u001b[0m\u001b[0;34m,\u001b[0m \u001b[0mreason\u001b[0m \u001b[0;34m=\u001b[0m \u001b[0mself\u001b[0m\u001b[0;34m.\u001b[0m\u001b[0m_read_status\u001b[0m\u001b[0;34m(\u001b[0m\u001b[0;34m)\u001b[0m\u001b[0;34m\u001b[0m\u001b[0;34m\u001b[0m\u001b[0m\n\u001b[0m\u001b[1;32m    319\u001b[0m             \u001b[0;32mif\u001b[0m \u001b[0mstatus\u001b[0m \u001b[0;34m!=\u001b[0m \u001b[0mCONTINUE\u001b[0m\u001b[0;34m:\u001b[0m\u001b[0;34m\u001b[0m\u001b[0;34m\u001b[0m\u001b[0m\n\u001b[1;32m    320\u001b[0m                 \u001b[0;32mbreak\u001b[0m\u001b[0;34m\u001b[0m\u001b[0;34m\u001b[0m\u001b[0m\n",
            "\u001b[0;32m/usr/lib/python3.10/http/client.py\u001b[0m in \u001b[0;36m_read_status\u001b[0;34m(self)\u001b[0m\n\u001b[1;32m    277\u001b[0m \u001b[0;34m\u001b[0m\u001b[0m\n\u001b[1;32m    278\u001b[0m     \u001b[0;32mdef\u001b[0m \u001b[0m_read_status\u001b[0m\u001b[0;34m(\u001b[0m\u001b[0mself\u001b[0m\u001b[0;34m)\u001b[0m\u001b[0;34m:\u001b[0m\u001b[0;34m\u001b[0m\u001b[0;34m\u001b[0m\u001b[0m\n\u001b[0;32m--> 279\u001b[0;31m         \u001b[0mline\u001b[0m \u001b[0;34m=\u001b[0m \u001b[0mstr\u001b[0m\u001b[0;34m(\u001b[0m\u001b[0mself\u001b[0m\u001b[0;34m.\u001b[0m\u001b[0mfp\u001b[0m\u001b[0;34m.\u001b[0m\u001b[0mreadline\u001b[0m\u001b[0;34m(\u001b[0m\u001b[0m_MAXLINE\u001b[0m \u001b[0;34m+\u001b[0m \u001b[0;36m1\u001b[0m\u001b[0;34m)\u001b[0m\u001b[0;34m,\u001b[0m \u001b[0;34m\"iso-8859-1\"\u001b[0m\u001b[0;34m)\u001b[0m\u001b[0;34m\u001b[0m\u001b[0;34m\u001b[0m\u001b[0m\n\u001b[0m\u001b[1;32m    280\u001b[0m         \u001b[0;32mif\u001b[0m \u001b[0mlen\u001b[0m\u001b[0;34m(\u001b[0m\u001b[0mline\u001b[0m\u001b[0;34m)\u001b[0m \u001b[0;34m>\u001b[0m \u001b[0m_MAXLINE\u001b[0m\u001b[0;34m:\u001b[0m\u001b[0;34m\u001b[0m\u001b[0;34m\u001b[0m\u001b[0m\n\u001b[1;32m    281\u001b[0m             \u001b[0;32mraise\u001b[0m \u001b[0mLineTooLong\u001b[0m\u001b[0;34m(\u001b[0m\u001b[0;34m\"status line\"\u001b[0m\u001b[0;34m)\u001b[0m\u001b[0;34m\u001b[0m\u001b[0;34m\u001b[0m\u001b[0m\n",
            "\u001b[0;32m/usr/lib/python3.10/socket.py\u001b[0m in \u001b[0;36mreadinto\u001b[0;34m(self, b)\u001b[0m\n\u001b[1;32m    703\u001b[0m         \u001b[0;32mwhile\u001b[0m \u001b[0;32mTrue\u001b[0m\u001b[0;34m:\u001b[0m\u001b[0;34m\u001b[0m\u001b[0;34m\u001b[0m\u001b[0m\n\u001b[1;32m    704\u001b[0m             \u001b[0;32mtry\u001b[0m\u001b[0;34m:\u001b[0m\u001b[0;34m\u001b[0m\u001b[0;34m\u001b[0m\u001b[0m\n\u001b[0;32m--> 705\u001b[0;31m                 \u001b[0;32mreturn\u001b[0m \u001b[0mself\u001b[0m\u001b[0;34m.\u001b[0m\u001b[0m_sock\u001b[0m\u001b[0;34m.\u001b[0m\u001b[0mrecv_into\u001b[0m\u001b[0;34m(\u001b[0m\u001b[0mb\u001b[0m\u001b[0;34m)\u001b[0m\u001b[0;34m\u001b[0m\u001b[0;34m\u001b[0m\u001b[0m\n\u001b[0m\u001b[1;32m    706\u001b[0m             \u001b[0;32mexcept\u001b[0m \u001b[0mtimeout\u001b[0m\u001b[0;34m:\u001b[0m\u001b[0;34m\u001b[0m\u001b[0;34m\u001b[0m\u001b[0m\n\u001b[1;32m    707\u001b[0m                 \u001b[0mself\u001b[0m\u001b[0;34m.\u001b[0m\u001b[0m_timeout_occurred\u001b[0m \u001b[0;34m=\u001b[0m \u001b[0;32mTrue\u001b[0m\u001b[0;34m\u001b[0m\u001b[0;34m\u001b[0m\u001b[0m\n",
            "\u001b[0;31mKeyboardInterrupt\u001b[0m: "
          ]
        }
      ]
    },
    {
      "cell_type": "markdown",
      "source": [
        "### Exercice 2\n",
        "\n",
        "Compute their similarities by considering senses and Jaccard coefficient.\n",
        "\n",
        "We will experiment with using and not using surrounding words."
      ],
      "metadata": {
        "id": "bDaO9Oztg4aE"
      }
    },
    {
      "cell_type": "code",
      "source": [
        "# for when we keep surrounding words, we must preprocess them:\n",
        "# - lowercase\n",
        "# - lemmatise\n",
        "# - remove punctuation\n",
        "# - remove stopwords\n",
        "\n",
        "# because we want to combine it with the synsets later on, we keep pair for each word (original, preprocessed), where preprocessed = None if it did not survive.\n",
        "\n",
        "dt['s0_preprocessed'] = dt['s0_tokens'].apply(\n",
        "    lambda tokens: [\n",
        "        (word, word.lower() if word.lower() not in stop_words and word not in punctuation else None)\n",
        "        for word in lemmatize_sentence(tokens)\n",
        "    ]\n",
        ")\n",
        "\n",
        "dt['s1_preprocessed'] = dt['s1_tokens'].apply(\n",
        "    lambda tokens: [\n",
        "        (word, word.lower() if word.lower() not in stop_words and word not in punctuation else None)\n",
        "        for word in lemmatize_sentence(tokens)\n",
        "    ]\n",
        ")\n"
      ],
      "metadata": {
        "id": "m480a3SUg7er"
      },
      "execution_count": 15,
      "outputs": []
    },
    {
      "cell_type": "code",
      "source": [
        "# now this code is a bit convoluted; we want to compute:\n",
        "#   1. jaccard distance with only synset\n",
        "#   2. with synset and surrounding preprocessed words.\n",
        "# we will take advantage of having a pair (original, preprocessed) and (original, synset) for every word!\n",
        "\n",
        "# case 1\n",
        "def get_only_synsets(disambiguated_lesk):\n",
        "    synsets = set()\n",
        "    for word, synset in disambiguated_lesk:\n",
        "        if synset:  # use synset only if it exists\n",
        "            synsets.add(synset)\n",
        "    return synsets\n",
        "\n",
        "# case 2\n",
        "def get_synsets_and_preprocessed(disambiguated_lesk, preprocessed):\n",
        "    combined = set()\n",
        "    for (word, synset), (orig, preproc) in zip(disambiguated_lesk, preprocessed):\n",
        "        if synset:  # if synset use it\n",
        "            combined.add(synset)\n",
        "        elif preproc:  # otherwise if preprocessed word, use it\n",
        "            combined.add(preproc)\n",
        "    return combined"
      ],
      "metadata": {
        "id": "-u7VNOLKk8TN"
      },
      "execution_count": 16,
      "outputs": []
    },
    {
      "cell_type": "code",
      "source": [
        "# computations!\n",
        "\n",
        "# case 1\n",
        "dt['jd_only_synsets'] = dt.apply(\n",
        "    lambda row: (1 - jaccard_distance(\n",
        "        get_only_synsets(row['s0_disambiguated_lesk']),\n",
        "        get_only_synsets(row['s1_disambiguated_lesk'])\n",
        "    )) * 5,\n",
        "    axis=1\n",
        ")\n",
        "\n",
        "# case 2\n",
        "dt['jd_synsets_and_preprocessed'] = dt.apply(\n",
        "    lambda row: (1 - jaccard_distance(\n",
        "        get_synsets_and_preprocessed(row['s0_disambiguated_lesk'], row['s0_preprocessed']),\n",
        "        get_synsets_and_preprocessed(row['s1_disambiguated_lesk'], row['s1_preprocessed'])\n",
        "    )) * 5,\n",
        "    axis=1\n",
        ")\n",
        "\n",
        "# we save this for later analysis...:\n",
        "dt['s0_synsets_and_preprocessed'] = dt.apply(\n",
        "    lambda row: get_synsets_and_preprocessed(row['s0_disambiguated_lesk'], row['s0_preprocessed']),\n",
        "    axis=1\n",
        ")\n",
        "\n",
        "dt['s1_synsets_and_preprocessed'] = dt.apply(\n",
        "    lambda row: get_synsets_and_preprocessed(row['s1_disambiguated_lesk'], row['s1_preprocessed']),\n",
        "    axis=1\n",
        ")"
      ],
      "metadata": {
        "id": "6jVMCxUClpuB"
      },
      "execution_count": 17,
      "outputs": []
    },
    {
      "cell_type": "markdown",
      "source": [
        "#### Which is better? Let's compare"
      ],
      "metadata": {
        "id": "5SrGBRkomFww"
      }
    },
    {
      "cell_type": "code",
      "source": [
        "pearson_only_synsets              = compute_pearson_correlation(dt, 'jd_only_synsets')\n",
        "pearson_synsets_and_preprocessed  = compute_pearson_correlation(dt, 'jd_synsets_and_preprocessed')\n",
        "\n",
        "plot_pearson_comparison(\n",
        "    [pearson_only_synsets, pearson_synsets_and_preprocessed],\n",
        "    ['Only Synsets', 'Synsets and Preprocessed']\n",
        ")"
      ],
      "metadata": {
        "colab": {
          "base_uri": "https://localhost:8080/",
          "height": 545
        },
        "id": "0dCBeggcmZ0w",
        "outputId": "659bf736-10d3-407d-f10c-f181de4cebb8"
      },
      "execution_count": 18,
      "outputs": [
        {
          "output_type": "display_data",
          "data": {
            "text/plain": [
              "<Figure size 800x600 with 1 Axes>"
            ],
            "image/png": "[encoded data removed]"
          },
          "metadata": {}
        }
      ]
    },
    {
      "cell_type": "markdown",
      "source": [
        "### Exercices 3 and 4\n",
        "\n",
        "3. Compare the results with those in session 2 (document) and 3 (morphology) in which words and lemmas were considered.\n",
        "4. Compare the results with gold standard by giving the pearson correlation between them."
      ],
      "metadata": {
        "id": "9QmwjuTEmB_U"
      }
    },
    {
      "cell_type": "markdown",
      "source": [
        "We will first compare all pearson correlations"
      ],
      "metadata": {
        "id": "y8WUeHQcn_QX"
      }
    },
    {
      "cell_type": "code",
      "source": [
        "# lab 2 results:\n",
        "dt['jd_lab2'] = dt.apply(\n",
        "    lambda row: (1 - jaccard_distance(\n",
        "        set([word.lower() for word in word_tokenize(row[\"s0\"]) if word.lower() not in stop_words and word not in punctuation]),\n",
        "        set([word.lower() for word in word_tokenize(row[\"s1\"]) if word.lower() not in stop_words and word not in punctuation])\n",
        "    )) * 5, axis=1\n",
        ")\n",
        "\n",
        "pearson_lab2 = compute_pearson_correlation(dt, 'jd_lab2')\n",
        "\n",
        "# as our preprocessing was already lab 3's!\n",
        "dt['jd_lab3'] = dt.apply(\n",
        "    lambda row: (1 - jaccard_distance(\n",
        "        set([word[1] for word in row['s0_preprocessed'] if word[1] is not None]),  # use only the second element if not None\n",
        "        set([word[1] for word in row['s1_preprocessed'] if word[1] is not None])\n",
        "    )) * 5, axis=1\n",
        ")\n",
        "\n",
        "\n",
        "pearson_lab3 = compute_pearson_correlation(dt, 'jd_lab3')\n",
        "\n",
        "print(f\"Pearson's correlation with lab 2: {pearson_lab2:.3f}\")\n",
        "print(f\"Pearson's correlation with lab 3: {pearson_lab3:.3f}\")"
      ],
      "metadata": {
        "colab": {
          "base_uri": "https://localhost:8080/"
        },
        "id": "4MSsr-eVmEqI",
        "outputId": "7563bb2a-9f96-4473-86d6-7b2c30b6f129"
      },
      "execution_count": 20,
      "outputs": [
        {
          "output_type": "stream",
          "name": "stdout",
          "text": [
            "Pearson's correlation with lab 2: 0.379\n",
            "Pearson's correlation with lab 3: 0.401\n"
          ]
        }
      ]
    },
    {
      "cell_type": "code",
      "source": [
        "plot_pearson_comparison(\n",
        "    [pearson_lab2, pearson_lab3, pearson_synsets_and_preprocessed],\n",
        "    ['Lab 2', 'Lab 3', 'Current lab (synsets + preprocessed)']\n",
        ")"
      ],
      "metadata": {
        "colab": {
          "base_uri": "https://localhost:8080/",
          "height": 545
        },
        "id": "5iwAd2A3oDuG",
        "outputId": "8eb72361-53b1-43fa-a15c-b6ab35770e5b"
      },
      "execution_count": 21,
      "outputs": [
        {
          "output_type": "display_data",
          "data": {
            "text/plain": [
              "<Figure size 800x600 with 1 Axes>"
            ],
            "image/png": "[encoded data removed]"
          },
          "metadata": {}
        }
      ]
    },
    {
      "cell_type": "markdown",
      "source": [
        "**Analysis:** We seemed to have a decay in performance! Apparently using only synsets and the preprocessing is worse than just using the preprocessing (lab3). Let's study individual cases to understand why this might happen. We will compare the current lab vs lab 3, as so far it is what offered the best results."
      ],
      "metadata": {
        "id": "z4hcO_9GoS_8"
      }
    },
    {
      "cell_type": "code",
      "source": [
        "# we have done this analysis in a previous lab\n",
        "\n",
        "# cases where current lab worked better\n",
        "# to find more illustrative examples, we find cases where the difference in performance was greater\n",
        "dt['diff_lab3']         = (dt['jd_lab3'] - dt['gs']).abs()\n",
        "dt['diff_current_lab']  = (dt['jd_synsets_and_preprocessed'] - dt['gs']).abs()\n",
        "filtered_cases_better   = dt[dt['diff_current_lab'] < dt['diff_lab3']]\n",
        "filtered_cases_equal    = dt[dt['diff_current_lab'] == dt['diff_lab3']]\n",
        "filtered_cases_worse    = dt[dt['diff_current_lab'] > dt['diff_lab3']]\n",
        "\n",
        "print(f\"Current lab performed:\")\n",
        "print(f\"  - Better in {len(filtered_cases_better)} cases ({(len(filtered_cases_better)/len(dt))*100:.2f}% of total)\")\n",
        "print(f\"  - Equally in {len(filtered_cases_equal)} cases ({(len(filtered_cases_equal)/len(dt)*100):.2f}% of total)\")\n",
        "print(f\"  - Worse in {len(filtered_cases_worse)} cases ({(len(filtered_cases_worse)/len(dt))*100:.2f}% of total)\")"
      ],
      "metadata": {
        "colab": {
          "base_uri": "https://localhost:8080/"
        },
        "id": "xoaDsF38rJgv",
        "outputId": "0b21c1e8-0f6b-4d92-e2b2-cefa10df3725"
      },
      "execution_count": 22,
      "outputs": [
        {
          "output_type": "stream",
          "name": "stdout",
          "text": [
            "Current lab performed:\n",
            "  - Better in 46 cases (14.51% of total)\n",
            "  - Equally in 59 cases (18.61% of total)\n",
            "  - Worse in 212 cases (66.88% of total)\n"
          ]
        }
      ]
    },
    {
      "cell_type": "markdown",
      "source": [
        "Let us now visualise some cases where it performed better, and some cases where it performed worse:"
      ],
      "metadata": {
        "id": "6XEPysbBvHy8"
      }
    },
    {
      "cell_type": "code",
      "source": [
        "# first, order them...\n",
        "dt['diff_better'] = dt['diff_lab3'] - dt['diff_current_lab']\n",
        "dt['diff_worse']  = dt['diff_current_lab'] - dt['diff_lab3']\n",
        "\n",
        "filtered_cases_better = dt.sort_values(by='diff_better', ascending=False)\n",
        "filtered_cases_worse  = dt.sort_values(by='diff_worse', ascending=False)"
      ],
      "metadata": {
        "id": "r1qHzR9gyvwi"
      },
      "execution_count": 23,
      "outputs": []
    },
    {
      "cell_type": "code",
      "source": [
        "examples_better = filtered_cases_better.head(5)\n",
        "display_examples(examples_better, \"Examples where the current lab performed better\")"
      ],
      "metadata": {
        "colab": {
          "base_uri": "https://localhost:8080/"
        },
        "id": "9Uv7P_nkwMyB",
        "outputId": "286be982-2e73-4e0a-b8cb-45155adab1ce"
      },
      "execution_count": 24,
      "outputs": [
        {
          "output_type": "stream",
          "name": "stdout",
          "text": [
            "\n",
            "Examples where the current lab performed better:\n",
            "\n",
            "Sentence 1: The fishermen are inactive, tired and disappointed.\n",
            "Sentence 2: The fishers are inactive, tired and disappointed.\n",
            "Lab3 Sentence 1: ['fisherman', 'inactive', 'tired', 'disappointed']\n",
            "Lab3 Sentence 2: ['fisher', 'inactive', 'tired', 'disappointed']\n",
            "Current Sentence 1: {'fisherman.n.01', 'exist.v.01', 'disappointed', 'tired.a.01', 'dormant.a.02'}\n",
            "Current Sentence 2: {'fisherman.n.01', 'exist.v.01', 'disappointed', 'tired.a.01', 'dormant.a.02'}\n",
            "Gold Standard (gs): 5.0\n",
            "Jaccard (Lab 3): 3.0\n",
            "Jaccard (Current Lab): 5.0\n",
            "Difference (Lab 3): 2.0000\n",
            "Difference (Current Lab): 0.0000\n",
            "--------------------------------------------------\n",
            "Sentence 1: Then perhaps we could have avoided a catastrophe.\n",
            "Sentence 2: We maybe then could have avoided a catastrophe.\n",
            "Lab3 Sentence 1: ['perhaps', 'could', 'avoid', 'catastrophe']\n",
            "Lab3 Sentence 2: ['maybe', 'could', 'avoid', 'catastrophe']\n",
            "Current Sentence 1: {'then.r.02', 'possibly.r.01', 'could', 'catastrophe.n.03', 'keep_off.v.01', 'have.v.07'}\n",
            "Current Sentence 2: {'then.r.02', 'possibly.r.01', 'could', 'catastrophe.n.03', 'keep_off.v.01', 'have.v.07'}\n",
            "Gold Standard (gs): 5.0\n",
            "Jaccard (Lab 3): 3.0\n",
            "Jaccard (Current Lab): 5.0\n",
            "Difference (Lab 3): 2.0000\n",
            "Difference (Current Lab): 0.0000\n",
            "--------------------------------------------------\n",
            "Sentence 1: The fishermen are inactive, tired and disappointed.\n",
            "Sentence 2: Fishermen are inactive, tired and disappointment.\n",
            "Lab3 Sentence 1: ['fisherman', 'inactive', 'tired', 'disappointed']\n",
            "Lab3 Sentence 2: ['fishermen', 'inactive', 'tired', 'disappointment']\n",
            "Current Sentence 1: {'fisherman.n.01', 'exist.v.01', 'disappointed', 'tired.a.01', 'dormant.a.02'}\n",
            "Current Sentence 2: {'disappointment.n.01', 'fisherman.n.01', 'exist.v.01', 'tired.a.01', 'dormant.a.02'}\n",
            "Gold Standard (gs): 4.8\n",
            "Jaccard (Lab 3): 1.666666666666667\n",
            "Jaccard (Current Lab): 3.333333333333334\n",
            "Difference (Lab 3): 3.1333\n",
            "Difference (Current Lab): 1.4667\n",
            "--------------------------------------------------\n",
            "Sentence 1: The fishermen are inactive, tired and disappointed.\n",
            "Sentence 2: Fishermen are inactive, tired and disappointed.\n",
            "Lab3 Sentence 1: ['fisherman', 'inactive', 'tired', 'disappointed']\n",
            "Lab3 Sentence 2: ['fishermen', 'inactive', 'tired', 'disappointed']\n",
            "Current Sentence 1: {'fisherman.n.01', 'exist.v.01', 'disappointed', 'tired.a.01', 'dormant.a.02'}\n",
            "Current Sentence 2: {'fisherman.n.01', 'exist.v.01', 'disappointed', 'tired.a.01', 'dormant.a.02'}\n",
            "Gold Standard (gs): 4.667\n",
            "Jaccard (Lab 3): 3.0\n",
            "Jaccard (Current Lab): 5.0\n",
            "Difference (Lab 3): 1.6670\n",
            "Difference (Current Lab): 0.3330\n",
            "--------------------------------------------------\n",
            "Sentence 1: The standards are scarcely comparable, let alone transferable.\n",
            "Sentence 2: The standards are hardly comparable and even less transferable.\n",
            "Lab3 Sentence 1: ['standard', 'scarcely', 'comparable', 'let', 'alone', 'transferable']\n",
            "Lab3 Sentence 2: ['standard', 'hardly', 'comparable', 'even', 'less', 'transferable']\n",
            "Current Sentence 1: {'comparable.a.01', 'entirely.r.02', 'permit.v.01', 'exist.v.01', 'hardly.r.02', 'standard.n.06', 'transferable'}\n",
            "Current Sentence 2: {'comparable.a.01', 'exist.v.01', 'even.r.04', 'less.r.01', 'hardly.r.02', 'standard.n.06', 'transferable'}\n",
            "Gold Standard (gs): 4.571\n",
            "Jaccard (Lab 3): 1.666666666666667\n",
            "Jaccard (Current Lab): 2.7777777777777777\n",
            "Difference (Lab 3): 2.9043\n",
            "Difference (Current Lab): 1.7932\n",
            "--------------------------------------------------\n"
          ]
        }
      ]
    },
    {
      "cell_type": "code",
      "source": [
        "examples_worse = filtered_cases_worse.head(5)\n",
        "display_examples(examples_worse, \"Examples where the current lab performed worse\")"
      ],
      "metadata": {
        "colab": {
          "base_uri": "https://localhost:8080/"
        },
        "id": "GfTwuqdMw3sj",
        "outputId": "1cdde914-ed10-47de-b880-235f0027c23c"
      },
      "execution_count": null,
      "outputs": [
        {
          "output_type": "stream",
          "name": "stdout",
          "text": [
            "\n",
            "Examples where the current lab performed worse:\n",
            "\n",
            "Sentence 1: There must be a balance as a whole.\n",
            "Sentence 2: The whole must be balanced.\n",
            "Lab3 Sentence 1: ['must', 'balance', 'whole']\n",
            "Lab3 Sentence 2: ['whole', 'must', 'balance']\n",
            "Current Sentence 1: {'embody.v.02', 'proportion.n.05', 'must', 'whole.n.02'}\n",
            "Current Sentence 2: {'exist.v.01', 'whole.a.02', 'balance.v.04', 'must'}\n",
            "Gold Standard (gs): 4.25\n",
            "Jaccard (Lab 3): 5.0\n",
            "Jaccard (Current Lab): 0.7142857142857145\n",
            "Difference (Lab 3): 0.7500\n",
            "Difference (Current Lab): 3.5357\n",
            "--------------------------------------------------\n",
            "Sentence 1: There must be a balance as a whole.\n",
            "Sentence 2: The whole must be in balance.\n",
            "Lab3 Sentence 1: ['must', 'balance', 'whole']\n",
            "Lab3 Sentence 2: ['whole', 'must', 'balance']\n",
            "Current Sentence 1: {'embody.v.02', 'proportion.n.05', 'must', 'whole.n.02'}\n",
            "Current Sentence 2: {'proportion.n.05', 'exist.v.01', 'whole.a.02', 'must'}\n",
            "Gold Standard (gs): 4.667\n",
            "Jaccard (Lab 3): 5.0\n",
            "Jaccard (Current Lab): 1.666666666666667\n",
            "Difference (Lab 3): 0.3330\n",
            "Difference (Current Lab): 3.0003\n",
            "--------------------------------------------------\n",
            "Sentence 1: Mr President, the Cashman report can be summarised in four words: citizens' power over bureaucracy.\n",
            "Sentence 2: Mr President, the Cashman report can be summarised in a few words: the power of citizens on bureaucracy.\n",
            "Lab3 Sentence 1: ['mr', 'president', 'cashman', 'report', 'summarise', 'four', 'word', 'citizen', 'power', 'bureaucracy']\n",
            "Lab3 Sentence 2: ['mr', 'president', 'cashman', 'report', 'summarise', 'word', 'power', 'citizen', 'bureaucracy']\n",
            "Current Sentence 1: {'mister.n.01', 'citizen.n.01', 'report.n.02', 'cashman', 'four', 'summarize.v.02', 'president_of_the_united_states.n.02', 'bureaucracy.n.03', 'words.n.01', 'power.n.02', 'exist.v.01'}\n",
            "Current Sentence 2: {'mister.n.01', 'embody.v.02', 'few.a.01', \"actor's_line.n.01\", 'report.n.04', 'cashman', 'citizen.n.01', 'president.n.05', 'summarize.v.02', 'bureaucracy.n.03', 'power.n.02'}\n",
            "Gold Standard (gs): 4.8\n",
            "Jaccard (Lab 3): 4.5\n",
            "Jaccard (Current Lab): 1.875\n",
            "Difference (Lab 3): 0.3000\n",
            "Difference (Current Lab): 2.9250\n",
            "--------------------------------------------------\n",
            "Sentence 1: There must be a balance as a whole.\n",
            "Sentence 2: All must be balanced.\n",
            "Lab3 Sentence 1: ['must', 'balance', 'whole']\n",
            "Lab3 Sentence 2: ['must', 'balance']\n",
            "Current Sentence 1: {'embody.v.02', 'proportion.n.05', 'must', 'whole.n.02'}\n",
            "Current Sentence 2: {'exist.v.01', 'balance.v.04', 'must'}\n",
            "Gold Standard (gs): 4.8\n",
            "Jaccard (Lab 3): 3.333333333333334\n",
            "Jaccard (Current Lab): 0.8333333333333331\n",
            "Difference (Lab 3): 1.4667\n",
            "Difference (Current Lab): 3.9667\n",
            "--------------------------------------------------\n",
            "Sentence 1: Selective aid, such as market support and a grass subsidy, are essential.\n",
            "Sentence 2: The occasional aid as the support of the market or the premium to grass is essential.\n",
            "Lab3 Sentence 1: ['selective', 'aid', 'market', 'support', 'grass', 'subsidy', 'essential']\n",
            "Lab3 Sentence 2: ['occasional', 'aid', 'support', 'market', 'premium', 'grass', 'essential']\n",
            "Current Sentence 1: {'embody.v.02', 'grass.n.01', 'substantive.a.02', 'subsidy.n.01', 'aid.n.03', 'selective', 'market.n.01', 'support.n.04'}\n",
            "Current Sentence 2: {'care.n.01', 'essential.a.04', 'occasional', 'be.v.01', 'market.n.02', 'eatage.n.01', 'premium.n.04', 'support.n.04'}\n",
            "Gold Standard (gs): 4.5\n",
            "Jaccard (Lab 3): 2.7777777777777777\n",
            "Jaccard (Current Lab): 0.33333333333333326\n",
            "Difference (Lab 3): 1.7222\n",
            "Difference (Current Lab): 4.1667\n",
            "--------------------------------------------------\n"
          ]
        }
      ]
    },
    {
      "cell_type": "markdown",
      "source": [
        "**Final Analysis and Conclusion:**\n",
        "\n",
        "\n",
        "Our current approach underperformed compared to Lab 3, as indicated by a lower Pearson correlation with the gold standard (0.321 vs. 0.401) and worse performance in 66.88% of cases. This underperformance can be attributed to the increased lexical diversity and potential mismatches introduced by synset substitution, which negatively affected the Jaccard similarity.\n",
        "\n",
        "When we substitute words with synsets, we aimed to capture the \"meaning\" of words; however, this often resulted in larger and more heterogeneous sets of tokens, reducing the likelihood of overlap between the synset sets of similar sentences. For instance, in the sentence pair \"There must be a balance as a whole\" and \"The whole must be balanced,\" Lab 3 maintained a high similarity score due to direct word matches like \"must,\" \"balance,\" and \"whole.\" In contrast, the current approach introduced synsets such as 'embody.v.02' and 'proportion.n.05' for \"balance\" and \"whole,\" which did not align directly with the synsets in the second sentence. Given Jaccard similarity only accounts for perfect matches between words, we obtained a lower score.\n",
        "\n",
        "Another example is the sentences \"Mr President, the Cashman report can be summarised in four words: citizens' power over bureaucracy\" and its counterpart. The synset substitution introduced different senses for words like \"report,\" \"president,\" and \"words,\" resulting in less overlap despite the sentences being semantically similar; on the other hand, in Lab 3 the lemmatized words remained consistent and resulted in a higher similarity score.\n",
        "\n",
        "However, there were cases where our current approach outperformed Lab 3, when synsets captured semantic similarities not evident when direct word matching. For example, in the sentence pair \"The fishermen are inactive, tired and disappointed.\" and \"The fishers are inactive, tired and disappointed,\" Lab 3 treated \"fisherman\" and \"fisher\" as different words, resulting in a lower similarity score, while the current lab's approach identified the same synset 'fisherman.n.01'. Similarly, in the sentences \"Then perhaps we could have avoided a catastrophe.\" and \"We maybe then could have avoided a catastrophe,\" the words \"perhaps\" and \"maybe\" were mapped to related synsets like 'possibly.r.01,'. These examples show that, in some cases, synsets could be prefered (when synonymous or semantically related words are used), as lab 3's simple preprocessing will never capture that.\n",
        "\n",
        "\n",
        "\n",
        "\n",
        "\n"
      ],
      "metadata": {
        "id": "70iCJAoZoUWD"
      }
    }
  ]
}