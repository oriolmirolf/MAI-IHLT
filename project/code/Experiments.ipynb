{
 "cells": [
  {
   "cell_type": "markdown",
   "metadata": {},
   "source": [
    "# IHLT Project"
   ]
  },
  {
   "cell_type": "markdown",
   "metadata": {},
   "source": [
    "---\n",
    "\n",
    "This notebook executes all the experiments: obtaining features and performing cross-validation on the model. If one wants to refer to analysis and results, please see the notebook \"Results and Analysis\""
   ]
  },
  {
   "cell_type": "markdown",
   "metadata": {},
   "source": [
    "The current jupyter notebook \n",
    "\n",
    "python 3.10.12 as in colab"
   ]
  },
  {
   "cell_type": "markdown",
   "metadata": {},
   "source": [
    "## 1. Data Preparation"
   ]
  },
  {
   "cell_type": "markdown",
   "metadata": {},
   "source": [
    "### 1.1 Import Libraries"
   ]
  },
  {
   "cell_type": "code",
   "execution_count": null,
   "metadata": {},
   "outputs": [],
   "source": [
    "# basic\n",
    "import os\n",
    "import pandas as pd\n",
    "import numpy as np\n",
    "\n",
    "# our scripts\n",
    "from scripts.data_loader import load_data\n",
    "from scripts.feature_extraction import FeatureExtractor\n",
    "from scripts.experiments import run_experiment"
   ]
  },
  {
   "cell_type": "markdown",
   "metadata": {},
   "source": [
    "### 1.2 Load Data"
   ]
  },
  {
   "cell_type": "code",
   "execution_count": null,
   "metadata": {},
   "outputs": [],
   "source": [
    "data_dir = 'data'\n",
    "\n",
    "train_data = load_data(data_dir, dataset_type='train')\n",
    "test_data = load_data(data_dir, dataset_type='test')\n",
    "\n",
    "print(f\"Number of training samples: {len(train_data)}\")\n",
    "print(f\"Number of test samples: {len(test_data)}\")\n"
   ]
  },
  {
   "cell_type": "markdown",
   "metadata": {},
   "source": [
    "## 2. Feature Extraction\n",
    "\n",
    "To avoid recalculation, we extract all features at once and then filter before training!"
   ]
  },
  {
   "cell_type": "code",
   "execution_count": null,
   "metadata": {},
   "outputs": [],
   "source": [
    "extractor = FeatureExtractor()"
   ]
  },
  {
   "cell_type": "code",
   "execution_count": null,
   "metadata": {},
   "outputs": [],
   "source": [
    "train_df  = extractor.extract_features_sequential(train_data)"
   ]
  },
  {
   "cell_type": "code",
   "execution_count": null,
   "metadata": {},
   "outputs": [],
   "source": [
    "test_df = extractor.extract_features_sequential(test_data)"
   ]
  },
  {
   "cell_type": "code",
   "execution_count": null,
   "metadata": {},
   "outputs": [],
   "source": [
    "train_csv_path = 'results/train_features_HOPIUM.csv'\n",
    "test_csv_path = 'results/test_features_HOPIUM.csv'"
   ]
  },
  {
   "cell_type": "code",
   "execution_count": null,
   "metadata": {},
   "outputs": [],
   "source": [
    "# save them\n",
    "train_df.to_csv(train_csv_path, index=False)\n",
    "test_df.to_csv(test_csv_path, index=False)"
   ]
  },
  {
   "cell_type": "code",
   "execution_count": null,
   "metadata": {},
   "outputs": [],
   "source": [
    "# load them\n",
    "train_df = pd.read_csv(train_csv_path)\n",
    "test_df = pd.read_csv(test_csv_path)"
   ]
  },
  {
   "cell_type": "markdown",
   "metadata": {},
   "source": [
    "## 3. Feature Selection & Model Training"
   ]
  },
  {
   "cell_type": "code",
   "execution_count": null,
   "metadata": {},
   "outputs": [],
   "source": [
    "# basic\n",
    "\n",
    "train_csv_path = 'results/train_features.csv'\n",
    "test_csv_path = 'results/test_features.csv'\n",
    "\n",
    "# load them\n",
    "train_df = pd.read_csv(train_csv_path)\n",
    "test_df = pd.read_csv(test_csv_path)\n",
    "\n",
    "\n",
    "# small preprocess\n",
    "train_df.fillna(0, inplace=True)\n",
    "test_df.fillna(0, inplace=True)\n",
    "\n",
    "clip_threshold = 10 # IMPORTANT (explained in the Results_and_Analysis notebook)\n",
    "\n",
    "# clip only numeric columns in both dfs\n",
    "train_df.update(train_df.select_dtypes(include=[np.number]).clip(upper=clip_threshold))\n",
    "test_df.update(test_df.select_dtypes(include=[np.number]).clip(upper=clip_threshold))\n",
    "\n",
    "lexical_features_columns = [col for col in train_df.columns if col.startswith('lex_')]\n",
    "syntactic_features_columns = [col for col in train_df.columns if col.startswith('syn_')]\n",
    "semantic_features_columns = [col for col in train_df.columns if col.startswith('sem_')]\n",
    "stylistic_features_columns = [col for col in train_df.columns if col.startswith('sty_')]\n",
    "\n",
    "feature_sets = {\n",
    "    'lexical': lexical_features_columns,\n",
    "    'syntactic': syntactic_features_columns,\n",
    "    'semantic': semantic_features_columns,\n",
    "    'stylistic': stylistic_features_columns,\n",
    "    'combined': lexical_features_columns + syntactic_features_columns + semantic_features_columns\n",
    "}\n",
    "\n",
    "model_save_path = 'models'\n",
    "os.makedirs(model_save_path, exist_ok=True)\n",
    "\n",
    "results_rows = []\n",
    "\n",
    "for feature_set_name, feature_columns in feature_sets.items():\n",
    "    print(\"=\"*80)\n",
    "    print(f\"Running experiment for feature set: {feature_set_name}\")\n",
    "    results = run_experiment(\n",
    "        train_df,\n",
    "        test_df.copy(),\n",
    "        feature_columns,\n",
    "        feature_set_name,\n",
    "        model_save_path\n",
    "    )\n",
    "\n",
    "    # results['all_models_results'] contains a dict of model_name -> metrics\n",
    "    for model_name, model_metrics in results['all_models_results'].items():\n",
    "        row = {\n",
    "            'Feature_Set': feature_set_name,\n",
    "            'Model_Name': model_name,\n",
    "            'Best_Params': str(model_metrics['best_params']),\n",
    "            'CV_Pearson': model_metrics['best_cv_score'],\n",
    "            'Test_Pearson': model_metrics['test_pearson'],\n",
    "            'Test_RMSE': model_metrics['test_rmse'],\n",
    "            'Test_MAE': model_metrics['test_mae'],\n",
    "            'Test_R2': model_metrics['test_r2'],\n",
    "            'Selected_Features': ', '.join(model_metrics['selected_features']),\n",
    "        }\n",
    "\n",
    "        for dataset, corr in model_metrics['correlations_per_dataset'].items():\n",
    "            row[f'Pearson_{dataset}'] = corr\n",
    "\n",
    "        results_rows.append(row)\n",
    "\n",
    "results_df = pd.DataFrame(results_rows)\n",
    "\n",
    "os.makedirs('results', exist_ok=True)\n",
    "\n",
    "results_csv_path = 'results/model_results.csv'\n",
    "results_df.to_csv(results_csv_path, index=False)\n",
    "print(f\"Results saved to {results_csv_path}\")"
   ]
  }
 ],
 "metadata": {
  "kernelspec": {
   "display_name": "ihlt",
   "language": "python",
   "name": "python3"
  },
  "language_info": {
   "codemirror_mode": {
    "name": "ipython",
    "version": 3
   },
   "file_extension": ".py",
   "mimetype": "text/x-python",
   "name": "python",
   "nbconvert_exporter": "python",
   "pygments_lexer": "ipython3",
   "version": "3.10.12"
  }
 },
 "nbformat": 4,
 "nbformat_minor": 2
}
